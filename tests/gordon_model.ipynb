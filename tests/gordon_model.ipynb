{
 "cells": [
  {
   "cell_type": "code",
   "id": "initial_id",
   "metadata": {
    "collapsed": true,
    "ExecuteTime": {
     "end_time": "2024-07-13T03:43:51.176274Z",
     "start_time": "2024-07-13T03:43:51.171600Z"
    }
   },
   "source": [
    "from datetime import datetime\n",
    "\n",
    "import numpy as np\n",
    "import yfinance as yf\n",
    "\n",
    "np.float_ = np.float64\n",
    "from prophet import Prophet\n",
    "\n",
    "import pandas as pd\n",
    "\n",
    "\n",
    "# Função para coletar dividendos históricos\n",
    "def coletar_dividendos(ticker):\n",
    "    acao = yf.Ticker(ticker)\n",
    "    dividendos = acao.dividends\n",
    "    dividendos = dividendos.reset_index()\n",
    "    dividendos.columns = ['ds', 'y']\n",
    "    dividendos['ds'] = pd.to_datetime(dividendos['ds']).dt.tz_localize(None)\n",
    "       \n",
    "    return dividendos\n",
    "\n",
    "\n",
    "# Função para coletar dados do índice e calcular a média anual\n",
    "def calcular_taxa_retorno_bvsp():\n",
    "    bvsp = yf.Ticker('^BVSP')\n",
    "    historico = bvsp.history(period='10y')  # Dados dos últimos 10 anos\n",
    "    historico['Year'] = historico.index.year\n",
    "    anual = historico.groupby('Year')['Close'].mean()  # Média anual\n",
    "    retorno_medio_anual = anual.pct_change().mean()  # Taxa de retorno anual média\n",
    "    return retorno_medio_anual\n",
    "\n",
    "\n",
    "# Função para calcular a taxa de crescimento dos dividendos usando Prophet\n",
    "def calcular_taxa_crescimento_dividendos(ticker):\n",
    "    dividendos = coletar_dividendos(ticker)\n",
    "\n",
    "    # Criar e ajustar o modelo Prophet\n",
    "    modelo = Prophet(growth='linear', yearly_seasonality=False, weekly_seasonality=False, daily_seasonality=False)\n",
    "    modelo.fit(dividendos)\n",
    "\n",
    "    # Prever para o futuro e obter a taxa de crescimento\n",
    "    futuro = modelo.make_future_dataframe(periods=1, freq='YE')  # Adiciona um ano\n",
    "    previsoes = modelo.predict(futuro)\n",
    "    \n",
    "    previsoes_por_ano = previsoes.groupby(pd.Grouper(key='ds', freq='YE')).sum()['trend']\n",
    "    taxa_crescimento = previsoes_por_ano[previsoes_por_ano > 0].pct_change().mean()\n",
    "    \n",
    "    dividendos = previsoes.iloc[:, :2]\n",
    "    dividendos.columns = ['ds', 'y']\n",
    "\n",
    "    return dividendos, taxa_crescimento\n",
    "\n",
    "\n",
    "def calcular_valor_justo(ticker):\n",
    "    \"\"\"\n",
    "    Calcula o valor justo da ação usando o Modelo de Gordon.\n",
    "    \"\"\"\n",
    "    taxa_retorno = calcular_taxa_retorno_bvsp() + 0.06\n",
    "    dividendos, taxa_crescimento = calcular_taxa_crescimento_dividendos(ticker)\n",
    "\n",
    "    print(f'Taxa de retorno média anual do ^BVSP: {taxa_retorno:.4f}')\n",
    "    print(f'Taxa de crescimento dos dividendos para {ticker}: {taxa_crescimento:.4f}')\n",
    "\n",
    "    # Definir a data atual\n",
    "    data_atual = dividendos['ds'].max()\n",
    "    \n",
    "    # Filtrar os dados para os últimos 12 meses\n",
    "    filtro = (dividendos['ds'] >= data_atual - pd.DateOffset(months=12))\n",
    "    df_ultimos_12_meses = dividendos[filtro]\n",
    "    \n",
    "    # Calcular a soma dos valores\n",
    "    dividendos_ultimos_12_meses = df_ultimos_12_meses['y'].sum()\n",
    "    print(f'Dividendos dos últimos 12 meses de {ticker} é: {dividendos_ultimos_12_meses:.2f}')\n",
    "\n",
    "    # Calcular o valor justo usando o Modelo de Gordon\n",
    "    valor_justo = dividendos_ultimos_12_meses * (1 + taxa_crescimento) / abs(taxa_retorno - taxa_crescimento)\n",
    "\n",
    "    return valor_justo"
   ],
   "outputs": [],
   "execution_count": 155
  },
  {
   "metadata": {
    "ExecuteTime": {
     "end_time": "2024-07-13T03:44:00.098373Z",
     "start_time": "2024-07-13T03:43:59.178536Z"
    }
   },
   "cell_type": "code",
   "source": [
    "# Exemplo de uso\n",
    "ticker = 'EGIE3.SA'  # Exemplo de ticker para dividendos\n",
    "valor_justo = calcular_valor_justo(ticker)\n",
    "\n",
    "print(f'O valor justo da ação {ticker} é: {valor_justo:.2f}')"
   ],
   "id": "54e28d85f395f8a",
   "outputs": [
    {
     "name": "stderr",
     "output_type": "stream",
     "text": [
      "00:44:00 - cmdstanpy - INFO - Chain [1] start processing\n",
      "00:44:00 - cmdstanpy - INFO - Chain [1] done processing\n"
     ]
    },
    {
     "name": "stdout",
     "output_type": "stream",
     "text": [
      "Taxa de retorno média anual do ^BVSP: 0.1538\n",
      "Taxa de crescimento dos dividendos para EGIE3.SA: 0.2137\n",
      "Dividendos dos últimos 12 meses de EGIE3.SA é: 1.77\n",
      "O valor justo da ação EGIE3.SA é: 35.84\n"
     ]
    }
   ],
   "execution_count": 157
  },
  {
   "metadata": {},
   "cell_type": "code",
   "outputs": [],
   "execution_count": null,
   "source": "",
   "id": "64029c6b2e9b3269"
  }
 ],
 "metadata": {
  "kernelspec": {
   "display_name": "Python 3",
   "language": "python",
   "name": "python3"
  },
  "language_info": {
   "codemirror_mode": {
    "name": "ipython",
    "version": 2
   },
   "file_extension": ".py",
   "mimetype": "text/x-python",
   "name": "python",
   "nbconvert_exporter": "python",
   "pygments_lexer": "ipython2",
   "version": "2.7.6"
  }
 },
 "nbformat": 4,
 "nbformat_minor": 5
}
