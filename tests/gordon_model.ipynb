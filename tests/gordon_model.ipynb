{
 "cells": [
  {
   "cell_type": "code",
   "id": "initial_id",
   "metadata": {
    "collapsed": true,
    "ExecuteTime": {
     "end_time": "2024-07-13T02:27:58.456553Z",
     "start_time": "2024-07-13T02:27:58.450418Z"
    }
   },
   "source": [
    "import numpy as np\n",
    "import yfinance as yf\n",
    "\n",
    "np.float_ = np.float64\n",
    "from prophet import Prophet\n",
    "\n",
    "import pandas as pd\n",
    "\n",
    "\n",
    "# Função para coletar dividendos históricos\n",
    "def coletar_dividendos(ticker):\n",
    "    acao = yf.Ticker(ticker)\n",
    "    dividendos = acao.dividends\n",
    "    dividendos = dividendos.reset_index()\n",
    "    dividendos.columns = ['ds', 'y']\n",
    "    dividendos['ds'] = pd.to_datetime(dividendos['ds']).dt.tz_localize(None)\n",
    "    return dividendos\n",
    "\n",
    "\n",
    "# Função para coletar dados do índice e calcular a média anual\n",
    "def calcular_taxa_retorno_bvsp():\n",
    "    bvsp = yf.Ticker('^BVSP')\n",
    "    historico = bvsp.history(period='10y')  # Dados dos últimos 10 anos\n",
    "    historico['Year'] = historico.index.year\n",
    "    anual = historico.groupby('Year')['Close'].mean()  # Média anual\n",
    "    retorno_medio_anual = anual.pct_change().mean()  # Taxa de retorno anual média\n",
    "    return retorno_medio_anual\n",
    "\n",
    "\n",
    "# Função para calcular a taxa de crescimento dos dividendos usando Prophet\n",
    "def calcular_taxa_crescimento_dividendos(ticker):\n",
    "    dividendos = coletar_dividendos(ticker)\n",
    "\n",
    "    # Criar e ajustar o modelo Prophet\n",
    "    modelo = Prophet(growth='linear', yearly_seasonality=False, weekly_seasonality=False, daily_seasonality=False)\n",
    "    modelo.fit(dividendos)\n",
    "\n",
    "    # Prever para o futuro e obter a taxa de crescimento\n",
    "    futuro = modelo.make_future_dataframe(periods=1, freq='YE')  # Adiciona um ano\n",
    "    previsoes = modelo.predict(futuro)\n",
    "    crescimento_estimado = previsoes['trend'].iloc[-1] - previsoes['trend'].iloc[-2]\n",
    "    taxa_crescimento = crescimento_estimado / previsoes['trend'].iloc[-2]\n",
    "\n",
    "    return taxa_crescimento\n",
    "\n",
    "\n",
    "def calcular_valor_justo(ticker):\n",
    "    \"\"\"\n",
    "    Calcula o valor justo da ação usando o Modelo de Gordon.\n",
    "    \"\"\"\n",
    "    taxa_retorno = calcular_taxa_retorno_bvsp()  # prêmio de 6% acima do IBOV\n",
    "    taxa_crescimento = calcular_taxa_crescimento_dividendos(ticker)\n",
    "\n",
    "    print(f'Taxa de retorno média anual do ^BVSP: {taxa_retorno:.4f}')\n",
    "    print(f'Taxa de crescimento dos dividendos para {ticker}: {taxa_crescimento:.4f}')\n",
    "\n",
    "    # Coletar o dividendo mais recente\n",
    "    dividendos = coletar_dividendos(ticker)\n",
    "    dividendo_atual = dividendos['y'].iloc[-1]\n",
    "    \n",
    "    display(dividendos)\n",
    "\n",
    "    # Calcular o valor justo usando o Modelo de Gordon\n",
    "    valor_justo = dividendo_atual * (1 + taxa_crescimento) / (taxa_retorno - taxa_crescimento)\n",
    "\n",
    "    return valor_justo"
   ],
   "outputs": [],
   "execution_count": 23
  },
  {
   "metadata": {
    "ExecuteTime": {
     "end_time": "2024-07-13T02:28:00.502125Z",
     "start_time": "2024-07-13T02:27:59.107801Z"
    }
   },
   "cell_type": "code",
   "source": [
    "# Exemplo de uso\n",
    "ticker = 'B3SA3.SA'  # Exemplo de ticker para dividendos\n",
    "valor_justo = calcular_valor_justo(ticker)\n",
    "\n",
    "print(f'O valor justo da ação {ticker} é: {valor_justo:.2f}')"
   ],
   "id": "54e28d85f395f8a",
   "outputs": [
    {
     "name": "stderr",
     "output_type": "stream",
     "text": [
      "23:27:59 - cmdstanpy - INFO - Chain [1] start processing\n",
      "23:28:00 - cmdstanpy - INFO - Chain [1] done processing\n"
     ]
    },
    {
     "name": "stdout",
     "output_type": "stream",
     "text": [
      "Taxa de retorno média anual do ^BVSP: 0.0938\n",
      "Taxa de crescimento dos dividendos para B3SA3.SA: 0.0308\n"
     ]
    },
    {
     "data": {
      "text/plain": [
       "           ds         y\n",
       "0  2008-08-26  0.024332\n",
       "1  2009-01-02  0.023102\n",
       "2  2009-05-04  0.020682\n",
       "3  2009-05-18  0.018644\n",
       "4  2009-08-17  0.020019\n",
       "..        ...       ...\n",
       "72 2023-09-29  0.105230\n",
       "73 2024-01-02  0.100519\n",
       "74 2024-02-28  0.066900\n",
       "75 2024-03-27  0.052453\n",
       "76 2024-06-19  0.086087\n",
       "\n",
       "[77 rows x 2 columns]"
      ],
      "text/html": [
       "<div>\n",
       "<style scoped>\n",
       "    .dataframe tbody tr th:only-of-type {\n",
       "        vertical-align: middle;\n",
       "    }\n",
       "\n",
       "    .dataframe tbody tr th {\n",
       "        vertical-align: top;\n",
       "    }\n",
       "\n",
       "    .dataframe thead th {\n",
       "        text-align: right;\n",
       "    }\n",
       "</style>\n",
       "<table border=\"1\" class=\"dataframe\">\n",
       "  <thead>\n",
       "    <tr style=\"text-align: right;\">\n",
       "      <th></th>\n",
       "      <th>ds</th>\n",
       "      <th>y</th>\n",
       "    </tr>\n",
       "  </thead>\n",
       "  <tbody>\n",
       "    <tr>\n",
       "      <th>0</th>\n",
       "      <td>2008-08-26</td>\n",
       "      <td>0.024332</td>\n",
       "    </tr>\n",
       "    <tr>\n",
       "      <th>1</th>\n",
       "      <td>2009-01-02</td>\n",
       "      <td>0.023102</td>\n",
       "    </tr>\n",
       "    <tr>\n",
       "      <th>2</th>\n",
       "      <td>2009-05-04</td>\n",
       "      <td>0.020682</td>\n",
       "    </tr>\n",
       "    <tr>\n",
       "      <th>3</th>\n",
       "      <td>2009-05-18</td>\n",
       "      <td>0.018644</td>\n",
       "    </tr>\n",
       "    <tr>\n",
       "      <th>4</th>\n",
       "      <td>2009-08-17</td>\n",
       "      <td>0.020019</td>\n",
       "    </tr>\n",
       "    <tr>\n",
       "      <th>...</th>\n",
       "      <td>...</td>\n",
       "      <td>...</td>\n",
       "    </tr>\n",
       "    <tr>\n",
       "      <th>72</th>\n",
       "      <td>2023-09-29</td>\n",
       "      <td>0.105230</td>\n",
       "    </tr>\n",
       "    <tr>\n",
       "      <th>73</th>\n",
       "      <td>2024-01-02</td>\n",
       "      <td>0.100519</td>\n",
       "    </tr>\n",
       "    <tr>\n",
       "      <th>74</th>\n",
       "      <td>2024-02-28</td>\n",
       "      <td>0.066900</td>\n",
       "    </tr>\n",
       "    <tr>\n",
       "      <th>75</th>\n",
       "      <td>2024-03-27</td>\n",
       "      <td>0.052453</td>\n",
       "    </tr>\n",
       "    <tr>\n",
       "      <th>76</th>\n",
       "      <td>2024-06-19</td>\n",
       "      <td>0.086087</td>\n",
       "    </tr>\n",
       "  </tbody>\n",
       "</table>\n",
       "<p>77 rows × 2 columns</p>\n",
       "</div>"
      ]
     },
     "metadata": {},
     "output_type": "display_data"
    },
    {
     "name": "stdout",
     "output_type": "stream",
     "text": [
      "O valor justo da ação B3SA3.SA é: 1.41\n"
     ]
    }
   ],
   "execution_count": 24
  },
  {
   "metadata": {},
   "cell_type": "code",
   "outputs": [],
   "execution_count": null,
   "source": "",
   "id": "64029c6b2e9b3269"
  }
 ],
 "metadata": {
  "kernelspec": {
   "display_name": "Python 3",
   "language": "python",
   "name": "python3"
  },
  "language_info": {
   "codemirror_mode": {
    "name": "ipython",
    "version": 2
   },
   "file_extension": ".py",
   "mimetype": "text/x-python",
   "name": "python",
   "nbconvert_exporter": "python",
   "pygments_lexer": "ipython2",
   "version": "2.7.6"
  }
 },
 "nbformat": 4,
 "nbformat_minor": 5
}
