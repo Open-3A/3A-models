{
 "cells": [
  {
   "cell_type": "code",
   "id": "initial_id",
   "metadata": {
    "collapsed": true,
    "ExecuteTime": {
     "end_time": "2024-07-01T01:08:18.252947Z",
     "start_time": "2024-07-01T01:08:15.827422Z"
    }
   },
   "source": "!pip install scikit-learn --quiet",
   "outputs": [
    {
     "name": "stdout",
     "output_type": "stream",
     "text": [
      "\r\n",
      "\u001B[1m[\u001B[0m\u001B[34;49mnotice\u001B[0m\u001B[1;39;49m]\u001B[0m\u001B[39;49m A new release of pip is available: \u001B[0m\u001B[31;49m23.2.1\u001B[0m\u001B[39;49m -> \u001B[0m\u001B[32;49m24.1.1\u001B[0m\r\n",
      "\u001B[1m[\u001B[0m\u001B[34;49mnotice\u001B[0m\u001B[1;39;49m]\u001B[0m\u001B[39;49m To update, run: \u001B[0m\u001B[32;49mpip install --upgrade pip\u001B[0m\r\n"
     ]
    }
   ],
   "execution_count": 1
  },
  {
   "metadata": {
    "ExecuteTime": {
     "end_time": "2024-07-01T01:08:21.792587Z",
     "start_time": "2024-07-01T01:08:18.255638Z"
    }
   },
   "cell_type": "code",
   "source": [
    "import pandas as pd\n",
    "import yfinance as yf\n",
    "import numpy as np\n",
    "from sklearn.cluster import KMeans\n",
    "\n",
    "from pathlib import Path\n",
    "import pickle"
   ],
   "id": "c8e6db28f06766b",
   "outputs": [],
   "execution_count": 2
  },
  {
   "metadata": {
    "ExecuteTime": {
     "end_time": "2024-07-01T01:08:21.796633Z",
     "start_time": "2024-07-01T01:08:21.793520Z"
    }
   },
   "cell_type": "code",
   "source": [
    "def get_financial_info(tickers):\n",
    "    data = {}\n",
    "    for ticker in tickers:\n",
    "        info = yf.Ticker(ticker).info\n",
    "        data[ticker] = {\n",
    "            'dividendYield': info.get('dividendYield', None),\n",
    "            'payoutRatio': info.get('payoutRatio', None),\n",
    "            'profitMargins': info.get('profitMargins', None),\n",
    "            'returnOnAssets': info.get('returnOnAssets', None),\n",
    "            'returnOnEquity': info.get('returnOnEquity', None),\n",
    "            'debtToEquity': info.get('debtToEquity', None),\n",
    "            'revenueGrowth': info.get('revenueGrowth', None)\n",
    "        }\n",
    "    return pd.DataFrame.from_dict(data, orient='index')"
   ],
   "id": "db32f3ec6735ed96",
   "outputs": [],
   "execution_count": 3
  },
  {
   "metadata": {
    "ExecuteTime": {
     "end_time": "2024-07-01T01:08:22.011960Z",
     "start_time": "2024-07-01T01:08:21.797780Z"
    }
   },
   "cell_type": "code",
   "source": [
    "from sklearn.preprocessing import StandardScaler\n",
    "\n",
    "def preprocess_data(data):\n",
    "    # Selecionar indicadores financeiros relevantes\n",
    "    indicators = ['dividendYield', 'payoutRatio', 'profitMargins', 'returnOnAssets', 'returnOnEquity', 'debtToEquity', 'revenueGrowth']\n",
    "\n",
    "    # Filtrar os dados apenas com os indicadores selecionados\n",
    "    df = data[indicators].copy()  # Cópia do DataFrame para evitar chained assignment\n",
    "\n",
    "    # Imputação estratégica dos valores ausentes\n",
    "    df['dividendYield'] = df['dividendYield'].fillna(0)  # Preenche com 0 onde dividendYield é ausente\n",
    "    df['payoutRatio'] = df['payoutRatio'].fillna(df['payoutRatio'].mean())  # Preenche com a média de payoutRatio onde ausente\n",
    "    df['profitMargins'] = df['profitMargins'].fillna(df['profitMargins'].mean())  # Preenche com a média de profitMargins onde ausente\n",
    "    df['returnOnAssets'] = df['returnOnAssets'].fillna(df['returnOnAssets'].mean())  # Preenche com a média de returnOnAssets onde ausente\n",
    "    df['returnOnEquity'] = df['returnOnEquity'].fillna(df['returnOnEquity'].mean())  # Preenche com a média de returnOnEquity onde ausente\n",
    "    df['debtToEquity'] = df['debtToEquity'].fillna(df['debtToEquity'].mean())  # Preenche com a média de debtToEquity onde ausente\n",
    "    df['revenueGrowth'] = df['revenueGrowth'].fillna(df['revenueGrowth'].mean())  # Preenche com a média de revenueGrowth onde ausente\n",
    "\n",
    "    # Normalizar os dados para evitar viés de escala\n",
    "    scaler = StandardScaler()\n",
    "    df_normalized = scaler.fit_transform(df)\n",
    "\n",
    "    return df_normalized\n"
   ],
   "id": "778fe4b1978bd730",
   "outputs": [],
   "execution_count": 4
  },
  {
   "metadata": {
    "ExecuteTime": {
     "end_time": "2024-07-01T01:08:22.085871Z",
     "start_time": "2024-07-01T01:08:22.013444Z"
    }
   },
   "cell_type": "code",
   "source": [
    "def apply_clustering(data, max_clusters=10):\n",
    "    distortions = []\n",
    "    for i in range(1, max_clusters + 1):\n",
    "        kmeans = KMeans(n_clusters=i, random_state=42)\n",
    "        kmeans.fit(data)\n",
    "        distortions.append(kmeans.inertia_)\n",
    "\n",
    "    # Escolher o número de clusters com base no método do cotovelo (elbow method)\n",
    "    elbow_index = np.argmin(np.gradient(distortions)) + 1\n",
    "    num_clusters = elbow_index if elbow_index > 1 else 2  # Garantir pelo menos 2 clusters\n",
    "\n",
    "    # Aplicar K-Means com o número ideal de clusters\n",
    "    kmeans = KMeans(n_clusters=num_clusters, random_state=42)\n",
    "    labels = kmeans.fit_predict(data)\n",
    "\n",
    "    return kmeans, labels"
   ],
   "id": "9d33213069754e12",
   "outputs": [],
   "execution_count": 5
  },
  {
   "metadata": {
    "ExecuteTime": {
     "end_time": "2024-07-01T01:08:22.186924Z",
     "start_time": "2024-07-01T01:08:22.086984Z"
    }
   },
   "cell_type": "code",
   "source": [
    "def get_dividend_clusters(assets):\n",
    "    # Obtendo os dados financeiros\n",
    "    financial_data = get_financial_info(assets)\n",
    "\n",
    "    # Pré-processando os dados\n",
    "    processed_data = preprocess_data(financial_data)\n",
    "\n",
    "    # Aplicando o algoritmo de agrupamento\n",
    "    kmeans, labels = apply_clustering(processed_data)\n",
    "\n",
    "    # Criando um dicionário para armazenar os tickers de cada cluster\n",
    "    cluster_dict = {i: [] for i in range(kmeans.n_clusters)}\n",
    "\n",
    "    # Preenchendo o dicionário com os tickers de cada cluster\n",
    "    for i, label in enumerate(labels):\n",
    "        cluster_dict[label].append(assets[i])\n",
    "\n",
    "    return cluster_dict"
   ],
   "id": "50af2ec15da6fd61",
   "outputs": [],
   "execution_count": 6
  },
  {
   "metadata": {},
   "cell_type": "markdown",
   "source": "# Testing",
   "id": "955e85fe52fcfabf"
  },
  {
   "metadata": {
    "ExecuteTime": {
     "end_time": "2024-07-01T01:08:26.760428Z",
     "start_time": "2024-07-01T01:08:22.188520Z"
    }
   },
   "cell_type": "code",
   "source": [
    "assets = [\n",
    "    'VAMO3.SA',\n",
    "    'VBBR3.SA',\n",
    "    'VIVA3.SA',\n",
    "    'VIVT3.SA',\n",
    "    'VLID3.SA',\n",
    "    'VULC3.SA',\n",
    "    'WEGE3.SA',\n",
    "    'WIZC3.SA',\n",
    "    'YDUQ3.SA',\n",
    "    'ZAMP3.SA'\n",
    "]\n",
    "\n",
    "clusters = get_dividend_clusters(assets)\n",
    "clusters"
   ],
   "id": "f1b24774a749ede1",
   "outputs": [
    {
     "data": {
      "text/plain": [
       "{0: ['VAMO3.SA', 'VIVT3.SA', 'VULC3.SA', 'YDUQ3.SA', 'ZAMP3.SA'],\n",
       " 1: ['VBBR3.SA', 'VIVA3.SA', 'VLID3.SA', 'WEGE3.SA', 'WIZC3.SA']}"
      ]
     },
     "execution_count": 7,
     "metadata": {},
     "output_type": "execute_result"
    }
   ],
   "execution_count": 7
  },
  {
   "metadata": {
    "ExecuteTime": {
     "end_time": "2024-07-01T01:08:26.764569Z",
     "start_time": "2024-07-01T01:08:26.761483Z"
    }
   },
   "cell_type": "code",
   "source": [
    "path = Path(\"data/dividend_clusters.pkl\")\n",
    "path.parent.mkdir(exist_ok=True)\n",
    "\n",
    "with open(path, mode=\"wb\") as file:\n",
    "    pickle.dump(clusters, file)"
   ],
   "id": "ca75aa2223385ff5",
   "outputs": [],
   "execution_count": 8
  },
  {
   "metadata": {},
   "cell_type": "markdown",
   "source": [
    "# Continuação\n",
    "\n",
    "A partir dos clusters de empresas com comportamentos semelhantes de dividendos, será feito uma análise em cada clusters para identificar quais são as características mais relevantes (com mais correlação) para predição de dividendos.\n",
    "\n",
    "[dividend_correlation_analysis.ipynb](dividend_correlation_analysis.ipynb)"
   ],
   "id": "c1f436832c78d407"
  },
  {
   "metadata": {
    "ExecuteTime": {
     "end_time": "2024-07-01T01:08:26.767561Z",
     "start_time": "2024-07-01T01:08:26.765572Z"
    }
   },
   "cell_type": "code",
   "source": "",
   "id": "c566a00736aaf25c",
   "outputs": [],
   "execution_count": 8
  }
 ],
 "metadata": {
  "kernelspec": {
   "display_name": "Python 3",
   "language": "python",
   "name": "python3"
  },
  "language_info": {
   "codemirror_mode": {
    "name": "ipython",
    "version": 2
   },
   "file_extension": ".py",
   "mimetype": "text/x-python",
   "name": "python",
   "nbconvert_exporter": "python",
   "pygments_lexer": "ipython2",
   "version": "2.7.6"
  }
 },
 "nbformat": 4,
 "nbformat_minor": 5
}
