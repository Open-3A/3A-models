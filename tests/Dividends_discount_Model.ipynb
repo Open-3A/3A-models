{
 "cells": [
  {
   "cell_type": "code",
   "id": "57c853e6",
   "metadata": {
    "ExecuteTime": {
     "end_time": "2024-07-13T03:50:26.045138Z",
     "start_time": "2024-07-13T03:50:26.042011Z"
    }
   },
   "source": [
    "import yfinance as yf\n",
    "import pandas as pd\n",
    "import numpy as np"
   ],
   "outputs": [],
   "execution_count": 82
  },
  {
   "cell_type": "code",
   "id": "d1fccc9c",
   "metadata": {
    "scrolled": false,
    "ExecuteTime": {
     "end_time": "2024-07-13T03:50:26.873084Z",
     "start_time": "2024-07-13T03:50:26.133762Z"
    }
   },
   "source": [
    "ticker = yf.Ticker(\"B3SA3.SA\")\n",
    "stock = ticker.actions\n",
    "stock"
   ],
   "outputs": [
    {
     "data": {
      "text/plain": [
       "                           Dividends  Stock Splits\n",
       "Date                                              \n",
       "2008-08-26 00:00:00-03:00   0.024332           0.0\n",
       "2009-01-02 00:00:00-02:00   0.023102           0.0\n",
       "2009-05-04 00:00:00-03:00   0.020682           0.0\n",
       "2009-05-18 00:00:00-03:00   0.018644           0.0\n",
       "2009-08-17 00:00:00-03:00   0.020019           0.0\n",
       "...                              ...           ...\n",
       "2023-09-29 00:00:00-03:00   0.105230           0.0\n",
       "2024-01-02 00:00:00-03:00   0.100519           0.0\n",
       "2024-02-28 00:00:00-03:00   0.066900           0.0\n",
       "2024-03-27 00:00:00-03:00   0.052453           0.0\n",
       "2024-06-19 00:00:00-03:00   0.086087           0.0\n",
       "\n",
       "[79 rows x 2 columns]"
      ],
      "text/html": [
       "<div>\n",
       "<style scoped>\n",
       "    .dataframe tbody tr th:only-of-type {\n",
       "        vertical-align: middle;\n",
       "    }\n",
       "\n",
       "    .dataframe tbody tr th {\n",
       "        vertical-align: top;\n",
       "    }\n",
       "\n",
       "    .dataframe thead th {\n",
       "        text-align: right;\n",
       "    }\n",
       "</style>\n",
       "<table border=\"1\" class=\"dataframe\">\n",
       "  <thead>\n",
       "    <tr style=\"text-align: right;\">\n",
       "      <th></th>\n",
       "      <th>Dividends</th>\n",
       "      <th>Stock Splits</th>\n",
       "    </tr>\n",
       "    <tr>\n",
       "      <th>Date</th>\n",
       "      <th></th>\n",
       "      <th></th>\n",
       "    </tr>\n",
       "  </thead>\n",
       "  <tbody>\n",
       "    <tr>\n",
       "      <th>2008-08-26 00:00:00-03:00</th>\n",
       "      <td>0.024332</td>\n",
       "      <td>0.0</td>\n",
       "    </tr>\n",
       "    <tr>\n",
       "      <th>2009-01-02 00:00:00-02:00</th>\n",
       "      <td>0.023102</td>\n",
       "      <td>0.0</td>\n",
       "    </tr>\n",
       "    <tr>\n",
       "      <th>2009-05-04 00:00:00-03:00</th>\n",
       "      <td>0.020682</td>\n",
       "      <td>0.0</td>\n",
       "    </tr>\n",
       "    <tr>\n",
       "      <th>2009-05-18 00:00:00-03:00</th>\n",
       "      <td>0.018644</td>\n",
       "      <td>0.0</td>\n",
       "    </tr>\n",
       "    <tr>\n",
       "      <th>2009-08-17 00:00:00-03:00</th>\n",
       "      <td>0.020019</td>\n",
       "      <td>0.0</td>\n",
       "    </tr>\n",
       "    <tr>\n",
       "      <th>...</th>\n",
       "      <td>...</td>\n",
       "      <td>...</td>\n",
       "    </tr>\n",
       "    <tr>\n",
       "      <th>2023-09-29 00:00:00-03:00</th>\n",
       "      <td>0.105230</td>\n",
       "      <td>0.0</td>\n",
       "    </tr>\n",
       "    <tr>\n",
       "      <th>2024-01-02 00:00:00-03:00</th>\n",
       "      <td>0.100519</td>\n",
       "      <td>0.0</td>\n",
       "    </tr>\n",
       "    <tr>\n",
       "      <th>2024-02-28 00:00:00-03:00</th>\n",
       "      <td>0.066900</td>\n",
       "      <td>0.0</td>\n",
       "    </tr>\n",
       "    <tr>\n",
       "      <th>2024-03-27 00:00:00-03:00</th>\n",
       "      <td>0.052453</td>\n",
       "      <td>0.0</td>\n",
       "    </tr>\n",
       "    <tr>\n",
       "      <th>2024-06-19 00:00:00-03:00</th>\n",
       "      <td>0.086087</td>\n",
       "      <td>0.0</td>\n",
       "    </tr>\n",
       "  </tbody>\n",
       "</table>\n",
       "<p>79 rows × 2 columns</p>\n",
       "</div>"
      ]
     },
     "execution_count": 83,
     "metadata": {},
     "output_type": "execute_result"
    }
   ],
   "execution_count": 83
  },
  {
   "cell_type": "code",
   "id": "7dbbd6b9",
   "metadata": {
    "ExecuteTime": {
     "end_time": "2024-07-13T03:50:26.876946Z",
     "start_time": "2024-07-13T03:50:26.873913Z"
    }
   },
   "source": [
    "stock_split = stock[\"Stock Splits\"].to_numpy()\n",
    "stock_split"
   ],
   "outputs": [
    {
     "data": {
      "text/plain": [
       "array([0., 0., 0., 0., 0., 0., 0., 0., 0., 0., 0., 0., 0., 0., 0., 0., 0.,\n",
       "       0., 0., 0., 0., 0., 0., 0., 0., 0., 0., 0., 0., 0., 0., 0., 0., 0.,\n",
       "       0., 0., 0., 0., 0., 0., 0., 0., 0., 0., 0., 0., 0., 0., 0., 0., 0.,\n",
       "       0., 0., 0., 0., 0., 0., 0., 0., 3., 3., 0., 0., 0., 0., 0., 0., 0.,\n",
       "       0., 0., 0., 0., 0., 0., 0., 0., 0., 0., 0.])"
      ]
     },
     "execution_count": 84,
     "metadata": {},
     "output_type": "execute_result"
    }
   ],
   "execution_count": 84
  },
  {
   "cell_type": "code",
   "id": "4656aca0",
   "metadata": {
    "ExecuteTime": {
     "end_time": "2024-07-13T03:50:27.003224Z",
     "start_time": "2024-07-13T03:50:26.877566Z"
    }
   },
   "source": [
    "stock_split_replaced = np.where(stock_split == 0, 1, stock_split)\n",
    "stock_split_replaced"
   ],
   "outputs": [
    {
     "data": {
      "text/plain": [
       "array([1., 1., 1., 1., 1., 1., 1., 1., 1., 1., 1., 1., 1., 1., 1., 1., 1.,\n",
       "       1., 1., 1., 1., 1., 1., 1., 1., 1., 1., 1., 1., 1., 1., 1., 1., 1.,\n",
       "       1., 1., 1., 1., 1., 1., 1., 1., 1., 1., 1., 1., 1., 1., 1., 1., 1.,\n",
       "       1., 1., 1., 1., 1., 1., 1., 1., 3., 3., 1., 1., 1., 1., 1., 1., 1.,\n",
       "       1., 1., 1., 1., 1., 1., 1., 1., 1., 1., 1.])"
      ]
     },
     "execution_count": 85,
     "metadata": {},
     "output_type": "execute_result"
    }
   ],
   "execution_count": 85
  },
  {
   "cell_type": "code",
   "id": "936d535a",
   "metadata": {
    "ExecuteTime": {
     "end_time": "2024-07-13T03:50:27.136596Z",
     "start_time": "2024-07-13T03:50:27.004738Z"
    }
   },
   "source": [
    "stock_split_comp = np.cumprod(stock_split_replaced, axis=0)\n",
    "stock_split_comp"
   ],
   "outputs": [
    {
     "data": {
      "text/plain": [
       "array([1., 1., 1., 1., 1., 1., 1., 1., 1., 1., 1., 1., 1., 1., 1., 1., 1.,\n",
       "       1., 1., 1., 1., 1., 1., 1., 1., 1., 1., 1., 1., 1., 1., 1., 1., 1.,\n",
       "       1., 1., 1., 1., 1., 1., 1., 1., 1., 1., 1., 1., 1., 1., 1., 1., 1.,\n",
       "       1., 1., 1., 1., 1., 1., 1., 1., 3., 9., 9., 9., 9., 9., 9., 9., 9.,\n",
       "       9., 9., 9., 9., 9., 9., 9., 9., 9., 9., 9.])"
      ]
     },
     "execution_count": 86,
     "metadata": {},
     "output_type": "execute_result"
    }
   ],
   "execution_count": 86
  },
  {
   "cell_type": "code",
   "id": "28e3ae01",
   "metadata": {
    "ExecuteTime": {
     "end_time": "2024-07-13T03:50:27.267565Z",
     "start_time": "2024-07-13T03:50:27.137918Z"
    }
   },
   "source": [
    "stock[\"stocksplit_adj\"] = stock_split_comp.tolist()\n",
    "stock"
   ],
   "outputs": [
    {
     "data": {
      "text/plain": [
       "                           Dividends  Stock Splits  stocksplit_adj\n",
       "Date                                                              \n",
       "2008-08-26 00:00:00-03:00   0.024332           0.0             1.0\n",
       "2009-01-02 00:00:00-02:00   0.023102           0.0             1.0\n",
       "2009-05-04 00:00:00-03:00   0.020682           0.0             1.0\n",
       "2009-05-18 00:00:00-03:00   0.018644           0.0             1.0\n",
       "2009-08-17 00:00:00-03:00   0.020019           0.0             1.0\n",
       "...                              ...           ...             ...\n",
       "2023-09-29 00:00:00-03:00   0.105230           0.0             9.0\n",
       "2024-01-02 00:00:00-03:00   0.100519           0.0             9.0\n",
       "2024-02-28 00:00:00-03:00   0.066900           0.0             9.0\n",
       "2024-03-27 00:00:00-03:00   0.052453           0.0             9.0\n",
       "2024-06-19 00:00:00-03:00   0.086087           0.0             9.0\n",
       "\n",
       "[79 rows x 3 columns]"
      ],
      "text/html": [
       "<div>\n",
       "<style scoped>\n",
       "    .dataframe tbody tr th:only-of-type {\n",
       "        vertical-align: middle;\n",
       "    }\n",
       "\n",
       "    .dataframe tbody tr th {\n",
       "        vertical-align: top;\n",
       "    }\n",
       "\n",
       "    .dataframe thead th {\n",
       "        text-align: right;\n",
       "    }\n",
       "</style>\n",
       "<table border=\"1\" class=\"dataframe\">\n",
       "  <thead>\n",
       "    <tr style=\"text-align: right;\">\n",
       "      <th></th>\n",
       "      <th>Dividends</th>\n",
       "      <th>Stock Splits</th>\n",
       "      <th>stocksplit_adj</th>\n",
       "    </tr>\n",
       "    <tr>\n",
       "      <th>Date</th>\n",
       "      <th></th>\n",
       "      <th></th>\n",
       "      <th></th>\n",
       "    </tr>\n",
       "  </thead>\n",
       "  <tbody>\n",
       "    <tr>\n",
       "      <th>2008-08-26 00:00:00-03:00</th>\n",
       "      <td>0.024332</td>\n",
       "      <td>0.0</td>\n",
       "      <td>1.0</td>\n",
       "    </tr>\n",
       "    <tr>\n",
       "      <th>2009-01-02 00:00:00-02:00</th>\n",
       "      <td>0.023102</td>\n",
       "      <td>0.0</td>\n",
       "      <td>1.0</td>\n",
       "    </tr>\n",
       "    <tr>\n",
       "      <th>2009-05-04 00:00:00-03:00</th>\n",
       "      <td>0.020682</td>\n",
       "      <td>0.0</td>\n",
       "      <td>1.0</td>\n",
       "    </tr>\n",
       "    <tr>\n",
       "      <th>2009-05-18 00:00:00-03:00</th>\n",
       "      <td>0.018644</td>\n",
       "      <td>0.0</td>\n",
       "      <td>1.0</td>\n",
       "    </tr>\n",
       "    <tr>\n",
       "      <th>2009-08-17 00:00:00-03:00</th>\n",
       "      <td>0.020019</td>\n",
       "      <td>0.0</td>\n",
       "      <td>1.0</td>\n",
       "    </tr>\n",
       "    <tr>\n",
       "      <th>...</th>\n",
       "      <td>...</td>\n",
       "      <td>...</td>\n",
       "      <td>...</td>\n",
       "    </tr>\n",
       "    <tr>\n",
       "      <th>2023-09-29 00:00:00-03:00</th>\n",
       "      <td>0.105230</td>\n",
       "      <td>0.0</td>\n",
       "      <td>9.0</td>\n",
       "    </tr>\n",
       "    <tr>\n",
       "      <th>2024-01-02 00:00:00-03:00</th>\n",
       "      <td>0.100519</td>\n",
       "      <td>0.0</td>\n",
       "      <td>9.0</td>\n",
       "    </tr>\n",
       "    <tr>\n",
       "      <th>2024-02-28 00:00:00-03:00</th>\n",
       "      <td>0.066900</td>\n",
       "      <td>0.0</td>\n",
       "      <td>9.0</td>\n",
       "    </tr>\n",
       "    <tr>\n",
       "      <th>2024-03-27 00:00:00-03:00</th>\n",
       "      <td>0.052453</td>\n",
       "      <td>0.0</td>\n",
       "      <td>9.0</td>\n",
       "    </tr>\n",
       "    <tr>\n",
       "      <th>2024-06-19 00:00:00-03:00</th>\n",
       "      <td>0.086087</td>\n",
       "      <td>0.0</td>\n",
       "      <td>9.0</td>\n",
       "    </tr>\n",
       "  </tbody>\n",
       "</table>\n",
       "<p>79 rows × 3 columns</p>\n",
       "</div>"
      ]
     },
     "execution_count": 87,
     "metadata": {},
     "output_type": "execute_result"
    }
   ],
   "execution_count": 87
  },
  {
   "cell_type": "code",
   "id": "4fb85d60",
   "metadata": {
    "ExecuteTime": {
     "end_time": "2024-07-13T03:50:27.397554Z",
     "start_time": "2024-07-13T03:50:27.268690Z"
    }
   },
   "source": [
    "stock[\"div_adj\"] = stock[\"Dividends\"] * stock[\"stocksplit_adj\"]\n",
    "stock"
   ],
   "outputs": [
    {
     "data": {
      "text/plain": [
       "                           Dividends  Stock Splits  stocksplit_adj   div_adj\n",
       "Date                                                                        \n",
       "2008-08-26 00:00:00-03:00   0.024332           0.0             1.0  0.024332\n",
       "2009-01-02 00:00:00-02:00   0.023102           0.0             1.0  0.023102\n",
       "2009-05-04 00:00:00-03:00   0.020682           0.0             1.0  0.020682\n",
       "2009-05-18 00:00:00-03:00   0.018644           0.0             1.0  0.018644\n",
       "2009-08-17 00:00:00-03:00   0.020019           0.0             1.0  0.020019\n",
       "...                              ...           ...             ...       ...\n",
       "2023-09-29 00:00:00-03:00   0.105230           0.0             9.0  0.947070\n",
       "2024-01-02 00:00:00-03:00   0.100519           0.0             9.0  0.904671\n",
       "2024-02-28 00:00:00-03:00   0.066900           0.0             9.0  0.602100\n",
       "2024-03-27 00:00:00-03:00   0.052453           0.0             9.0  0.472077\n",
       "2024-06-19 00:00:00-03:00   0.086087           0.0             9.0  0.774783\n",
       "\n",
       "[79 rows x 4 columns]"
      ],
      "text/html": [
       "<div>\n",
       "<style scoped>\n",
       "    .dataframe tbody tr th:only-of-type {\n",
       "        vertical-align: middle;\n",
       "    }\n",
       "\n",
       "    .dataframe tbody tr th {\n",
       "        vertical-align: top;\n",
       "    }\n",
       "\n",
       "    .dataframe thead th {\n",
       "        text-align: right;\n",
       "    }\n",
       "</style>\n",
       "<table border=\"1\" class=\"dataframe\">\n",
       "  <thead>\n",
       "    <tr style=\"text-align: right;\">\n",
       "      <th></th>\n",
       "      <th>Dividends</th>\n",
       "      <th>Stock Splits</th>\n",
       "      <th>stocksplit_adj</th>\n",
       "      <th>div_adj</th>\n",
       "    </tr>\n",
       "    <tr>\n",
       "      <th>Date</th>\n",
       "      <th></th>\n",
       "      <th></th>\n",
       "      <th></th>\n",
       "      <th></th>\n",
       "    </tr>\n",
       "  </thead>\n",
       "  <tbody>\n",
       "    <tr>\n",
       "      <th>2008-08-26 00:00:00-03:00</th>\n",
       "      <td>0.024332</td>\n",
       "      <td>0.0</td>\n",
       "      <td>1.0</td>\n",
       "      <td>0.024332</td>\n",
       "    </tr>\n",
       "    <tr>\n",
       "      <th>2009-01-02 00:00:00-02:00</th>\n",
       "      <td>0.023102</td>\n",
       "      <td>0.0</td>\n",
       "      <td>1.0</td>\n",
       "      <td>0.023102</td>\n",
       "    </tr>\n",
       "    <tr>\n",
       "      <th>2009-05-04 00:00:00-03:00</th>\n",
       "      <td>0.020682</td>\n",
       "      <td>0.0</td>\n",
       "      <td>1.0</td>\n",
       "      <td>0.020682</td>\n",
       "    </tr>\n",
       "    <tr>\n",
       "      <th>2009-05-18 00:00:00-03:00</th>\n",
       "      <td>0.018644</td>\n",
       "      <td>0.0</td>\n",
       "      <td>1.0</td>\n",
       "      <td>0.018644</td>\n",
       "    </tr>\n",
       "    <tr>\n",
       "      <th>2009-08-17 00:00:00-03:00</th>\n",
       "      <td>0.020019</td>\n",
       "      <td>0.0</td>\n",
       "      <td>1.0</td>\n",
       "      <td>0.020019</td>\n",
       "    </tr>\n",
       "    <tr>\n",
       "      <th>...</th>\n",
       "      <td>...</td>\n",
       "      <td>...</td>\n",
       "      <td>...</td>\n",
       "      <td>...</td>\n",
       "    </tr>\n",
       "    <tr>\n",
       "      <th>2023-09-29 00:00:00-03:00</th>\n",
       "      <td>0.105230</td>\n",
       "      <td>0.0</td>\n",
       "      <td>9.0</td>\n",
       "      <td>0.947070</td>\n",
       "    </tr>\n",
       "    <tr>\n",
       "      <th>2024-01-02 00:00:00-03:00</th>\n",
       "      <td>0.100519</td>\n",
       "      <td>0.0</td>\n",
       "      <td>9.0</td>\n",
       "      <td>0.904671</td>\n",
       "    </tr>\n",
       "    <tr>\n",
       "      <th>2024-02-28 00:00:00-03:00</th>\n",
       "      <td>0.066900</td>\n",
       "      <td>0.0</td>\n",
       "      <td>9.0</td>\n",
       "      <td>0.602100</td>\n",
       "    </tr>\n",
       "    <tr>\n",
       "      <th>2024-03-27 00:00:00-03:00</th>\n",
       "      <td>0.052453</td>\n",
       "      <td>0.0</td>\n",
       "      <td>9.0</td>\n",
       "      <td>0.472077</td>\n",
       "    </tr>\n",
       "    <tr>\n",
       "      <th>2024-06-19 00:00:00-03:00</th>\n",
       "      <td>0.086087</td>\n",
       "      <td>0.0</td>\n",
       "      <td>9.0</td>\n",
       "      <td>0.774783</td>\n",
       "    </tr>\n",
       "  </tbody>\n",
       "</table>\n",
       "<p>79 rows × 4 columns</p>\n",
       "</div>"
      ]
     },
     "execution_count": 88,
     "metadata": {},
     "output_type": "execute_result"
    }
   ],
   "execution_count": 88
  },
  {
   "cell_type": "code",
   "id": "6aa87e40",
   "metadata": {
    "ExecuteTime": {
     "end_time": "2024-07-13T03:50:27.544096Z",
     "start_time": "2024-07-13T03:50:27.399388Z"
    }
   },
   "source": [
    "stock['year'] = stock.index.year\n",
    "stock"
   ],
   "outputs": [
    {
     "data": {
      "text/plain": [
       "                           Dividends  Stock Splits  stocksplit_adj   div_adj  \\\n",
       "Date                                                                           \n",
       "2008-08-26 00:00:00-03:00   0.024332           0.0             1.0  0.024332   \n",
       "2009-01-02 00:00:00-02:00   0.023102           0.0             1.0  0.023102   \n",
       "2009-05-04 00:00:00-03:00   0.020682           0.0             1.0  0.020682   \n",
       "2009-05-18 00:00:00-03:00   0.018644           0.0             1.0  0.018644   \n",
       "2009-08-17 00:00:00-03:00   0.020019           0.0             1.0  0.020019   \n",
       "...                              ...           ...             ...       ...   \n",
       "2023-09-29 00:00:00-03:00   0.105230           0.0             9.0  0.947070   \n",
       "2024-01-02 00:00:00-03:00   0.100519           0.0             9.0  0.904671   \n",
       "2024-02-28 00:00:00-03:00   0.066900           0.0             9.0  0.602100   \n",
       "2024-03-27 00:00:00-03:00   0.052453           0.0             9.0  0.472077   \n",
       "2024-06-19 00:00:00-03:00   0.086087           0.0             9.0  0.774783   \n",
       "\n",
       "                           year  \n",
       "Date                             \n",
       "2008-08-26 00:00:00-03:00  2008  \n",
       "2009-01-02 00:00:00-02:00  2009  \n",
       "2009-05-04 00:00:00-03:00  2009  \n",
       "2009-05-18 00:00:00-03:00  2009  \n",
       "2009-08-17 00:00:00-03:00  2009  \n",
       "...                         ...  \n",
       "2023-09-29 00:00:00-03:00  2023  \n",
       "2024-01-02 00:00:00-03:00  2024  \n",
       "2024-02-28 00:00:00-03:00  2024  \n",
       "2024-03-27 00:00:00-03:00  2024  \n",
       "2024-06-19 00:00:00-03:00  2024  \n",
       "\n",
       "[79 rows x 5 columns]"
      ],
      "text/html": [
       "<div>\n",
       "<style scoped>\n",
       "    .dataframe tbody tr th:only-of-type {\n",
       "        vertical-align: middle;\n",
       "    }\n",
       "\n",
       "    .dataframe tbody tr th {\n",
       "        vertical-align: top;\n",
       "    }\n",
       "\n",
       "    .dataframe thead th {\n",
       "        text-align: right;\n",
       "    }\n",
       "</style>\n",
       "<table border=\"1\" class=\"dataframe\">\n",
       "  <thead>\n",
       "    <tr style=\"text-align: right;\">\n",
       "      <th></th>\n",
       "      <th>Dividends</th>\n",
       "      <th>Stock Splits</th>\n",
       "      <th>stocksplit_adj</th>\n",
       "      <th>div_adj</th>\n",
       "      <th>year</th>\n",
       "    </tr>\n",
       "    <tr>\n",
       "      <th>Date</th>\n",
       "      <th></th>\n",
       "      <th></th>\n",
       "      <th></th>\n",
       "      <th></th>\n",
       "      <th></th>\n",
       "    </tr>\n",
       "  </thead>\n",
       "  <tbody>\n",
       "    <tr>\n",
       "      <th>2008-08-26 00:00:00-03:00</th>\n",
       "      <td>0.024332</td>\n",
       "      <td>0.0</td>\n",
       "      <td>1.0</td>\n",
       "      <td>0.024332</td>\n",
       "      <td>2008</td>\n",
       "    </tr>\n",
       "    <tr>\n",
       "      <th>2009-01-02 00:00:00-02:00</th>\n",
       "      <td>0.023102</td>\n",
       "      <td>0.0</td>\n",
       "      <td>1.0</td>\n",
       "      <td>0.023102</td>\n",
       "      <td>2009</td>\n",
       "    </tr>\n",
       "    <tr>\n",
       "      <th>2009-05-04 00:00:00-03:00</th>\n",
       "      <td>0.020682</td>\n",
       "      <td>0.0</td>\n",
       "      <td>1.0</td>\n",
       "      <td>0.020682</td>\n",
       "      <td>2009</td>\n",
       "    </tr>\n",
       "    <tr>\n",
       "      <th>2009-05-18 00:00:00-03:00</th>\n",
       "      <td>0.018644</td>\n",
       "      <td>0.0</td>\n",
       "      <td>1.0</td>\n",
       "      <td>0.018644</td>\n",
       "      <td>2009</td>\n",
       "    </tr>\n",
       "    <tr>\n",
       "      <th>2009-08-17 00:00:00-03:00</th>\n",
       "      <td>0.020019</td>\n",
       "      <td>0.0</td>\n",
       "      <td>1.0</td>\n",
       "      <td>0.020019</td>\n",
       "      <td>2009</td>\n",
       "    </tr>\n",
       "    <tr>\n",
       "      <th>...</th>\n",
       "      <td>...</td>\n",
       "      <td>...</td>\n",
       "      <td>...</td>\n",
       "      <td>...</td>\n",
       "      <td>...</td>\n",
       "    </tr>\n",
       "    <tr>\n",
       "      <th>2023-09-29 00:00:00-03:00</th>\n",
       "      <td>0.105230</td>\n",
       "      <td>0.0</td>\n",
       "      <td>9.0</td>\n",
       "      <td>0.947070</td>\n",
       "      <td>2023</td>\n",
       "    </tr>\n",
       "    <tr>\n",
       "      <th>2024-01-02 00:00:00-03:00</th>\n",
       "      <td>0.100519</td>\n",
       "      <td>0.0</td>\n",
       "      <td>9.0</td>\n",
       "      <td>0.904671</td>\n",
       "      <td>2024</td>\n",
       "    </tr>\n",
       "    <tr>\n",
       "      <th>2024-02-28 00:00:00-03:00</th>\n",
       "      <td>0.066900</td>\n",
       "      <td>0.0</td>\n",
       "      <td>9.0</td>\n",
       "      <td>0.602100</td>\n",
       "      <td>2024</td>\n",
       "    </tr>\n",
       "    <tr>\n",
       "      <th>2024-03-27 00:00:00-03:00</th>\n",
       "      <td>0.052453</td>\n",
       "      <td>0.0</td>\n",
       "      <td>9.0</td>\n",
       "      <td>0.472077</td>\n",
       "      <td>2024</td>\n",
       "    </tr>\n",
       "    <tr>\n",
       "      <th>2024-06-19 00:00:00-03:00</th>\n",
       "      <td>0.086087</td>\n",
       "      <td>0.0</td>\n",
       "      <td>9.0</td>\n",
       "      <td>0.774783</td>\n",
       "      <td>2024</td>\n",
       "    </tr>\n",
       "  </tbody>\n",
       "</table>\n",
       "<p>79 rows × 5 columns</p>\n",
       "</div>"
      ]
     },
     "execution_count": 89,
     "metadata": {},
     "output_type": "execute_result"
    }
   ],
   "execution_count": 89
  },
  {
   "cell_type": "code",
   "id": "a28ccfd2",
   "metadata": {
    "ExecuteTime": {
     "end_time": "2024-07-13T03:50:27.732415Z",
     "start_time": "2024-07-13T03:50:27.545311Z"
    }
   },
   "source": [
    "stock_grp = stock.groupby(by=[\"year\"]).sum()\n",
    "stock_grp.tail(20)"
   ],
   "outputs": [
    {
     "data": {
      "text/plain": [
       "      Dividends  Stock Splits  stocksplit_adj   div_adj\n",
       "year                                                   \n",
       "2008   0.024332           0.0             1.0  0.024332\n",
       "2009   0.110237           0.0             6.0  0.110237\n",
       "2010   0.156855           0.0             7.0  0.156855\n",
       "2011   0.174123           0.0             5.0  0.174123\n",
       "2012   0.134854           0.0             4.0  0.134854\n",
       "2013   0.164130           0.0             4.0  0.164130\n",
       "2014   0.134735           0.0             4.0  0.134735\n",
       "2015   0.266364           0.0             5.0  0.266364\n",
       "2016   0.167857           0.0             4.0  0.167857\n",
       "2017   0.150912           0.0             4.0  0.150912\n",
       "2018   0.234043           0.0             4.0  0.234043\n",
       "2019   0.268078           0.0             4.0  0.268078\n",
       "2020   0.538440           0.0             4.0  0.538440\n",
       "2021   0.977915           6.0            42.0  5.447611\n",
       "2022   0.469106           0.0            45.0  4.221954\n",
       "2023   0.487233           0.0            54.0  4.385097\n",
       "2024   0.305959           0.0            36.0  2.753631"
      ],
      "text/html": [
       "<div>\n",
       "<style scoped>\n",
       "    .dataframe tbody tr th:only-of-type {\n",
       "        vertical-align: middle;\n",
       "    }\n",
       "\n",
       "    .dataframe tbody tr th {\n",
       "        vertical-align: top;\n",
       "    }\n",
       "\n",
       "    .dataframe thead th {\n",
       "        text-align: right;\n",
       "    }\n",
       "</style>\n",
       "<table border=\"1\" class=\"dataframe\">\n",
       "  <thead>\n",
       "    <tr style=\"text-align: right;\">\n",
       "      <th></th>\n",
       "      <th>Dividends</th>\n",
       "      <th>Stock Splits</th>\n",
       "      <th>stocksplit_adj</th>\n",
       "      <th>div_adj</th>\n",
       "    </tr>\n",
       "    <tr>\n",
       "      <th>year</th>\n",
       "      <th></th>\n",
       "      <th></th>\n",
       "      <th></th>\n",
       "      <th></th>\n",
       "    </tr>\n",
       "  </thead>\n",
       "  <tbody>\n",
       "    <tr>\n",
       "      <th>2008</th>\n",
       "      <td>0.024332</td>\n",
       "      <td>0.0</td>\n",
       "      <td>1.0</td>\n",
       "      <td>0.024332</td>\n",
       "    </tr>\n",
       "    <tr>\n",
       "      <th>2009</th>\n",
       "      <td>0.110237</td>\n",
       "      <td>0.0</td>\n",
       "      <td>6.0</td>\n",
       "      <td>0.110237</td>\n",
       "    </tr>\n",
       "    <tr>\n",
       "      <th>2010</th>\n",
       "      <td>0.156855</td>\n",
       "      <td>0.0</td>\n",
       "      <td>7.0</td>\n",
       "      <td>0.156855</td>\n",
       "    </tr>\n",
       "    <tr>\n",
       "      <th>2011</th>\n",
       "      <td>0.174123</td>\n",
       "      <td>0.0</td>\n",
       "      <td>5.0</td>\n",
       "      <td>0.174123</td>\n",
       "    </tr>\n",
       "    <tr>\n",
       "      <th>2012</th>\n",
       "      <td>0.134854</td>\n",
       "      <td>0.0</td>\n",
       "      <td>4.0</td>\n",
       "      <td>0.134854</td>\n",
       "    </tr>\n",
       "    <tr>\n",
       "      <th>2013</th>\n",
       "      <td>0.164130</td>\n",
       "      <td>0.0</td>\n",
       "      <td>4.0</td>\n",
       "      <td>0.164130</td>\n",
       "    </tr>\n",
       "    <tr>\n",
       "      <th>2014</th>\n",
       "      <td>0.134735</td>\n",
       "      <td>0.0</td>\n",
       "      <td>4.0</td>\n",
       "      <td>0.134735</td>\n",
       "    </tr>\n",
       "    <tr>\n",
       "      <th>2015</th>\n",
       "      <td>0.266364</td>\n",
       "      <td>0.0</td>\n",
       "      <td>5.0</td>\n",
       "      <td>0.266364</td>\n",
       "    </tr>\n",
       "    <tr>\n",
       "      <th>2016</th>\n",
       "      <td>0.167857</td>\n",
       "      <td>0.0</td>\n",
       "      <td>4.0</td>\n",
       "      <td>0.167857</td>\n",
       "    </tr>\n",
       "    <tr>\n",
       "      <th>2017</th>\n",
       "      <td>0.150912</td>\n",
       "      <td>0.0</td>\n",
       "      <td>4.0</td>\n",
       "      <td>0.150912</td>\n",
       "    </tr>\n",
       "    <tr>\n",
       "      <th>2018</th>\n",
       "      <td>0.234043</td>\n",
       "      <td>0.0</td>\n",
       "      <td>4.0</td>\n",
       "      <td>0.234043</td>\n",
       "    </tr>\n",
       "    <tr>\n",
       "      <th>2019</th>\n",
       "      <td>0.268078</td>\n",
       "      <td>0.0</td>\n",
       "      <td>4.0</td>\n",
       "      <td>0.268078</td>\n",
       "    </tr>\n",
       "    <tr>\n",
       "      <th>2020</th>\n",
       "      <td>0.538440</td>\n",
       "      <td>0.0</td>\n",
       "      <td>4.0</td>\n",
       "      <td>0.538440</td>\n",
       "    </tr>\n",
       "    <tr>\n",
       "      <th>2021</th>\n",
       "      <td>0.977915</td>\n",
       "      <td>6.0</td>\n",
       "      <td>42.0</td>\n",
       "      <td>5.447611</td>\n",
       "    </tr>\n",
       "    <tr>\n",
       "      <th>2022</th>\n",
       "      <td>0.469106</td>\n",
       "      <td>0.0</td>\n",
       "      <td>45.0</td>\n",
       "      <td>4.221954</td>\n",
       "    </tr>\n",
       "    <tr>\n",
       "      <th>2023</th>\n",
       "      <td>0.487233</td>\n",
       "      <td>0.0</td>\n",
       "      <td>54.0</td>\n",
       "      <td>4.385097</td>\n",
       "    </tr>\n",
       "    <tr>\n",
       "      <th>2024</th>\n",
       "      <td>0.305959</td>\n",
       "      <td>0.0</td>\n",
       "      <td>36.0</td>\n",
       "      <td>2.753631</td>\n",
       "    </tr>\n",
       "  </tbody>\n",
       "</table>\n",
       "</div>"
      ]
     },
     "execution_count": 90,
     "metadata": {},
     "output_type": "execute_result"
    }
   ],
   "execution_count": 90
  },
  {
   "cell_type": "code",
   "id": "a04210b9",
   "metadata": {
    "ExecuteTime": {
     "end_time": "2024-07-13T03:50:27.887669Z",
     "start_time": "2024-07-13T03:50:27.733789Z"
    }
   },
   "source": [
    "stock_grp[\"div_PCT_Change\"] = stock_grp[\"div_adj\"].pct_change(fill_method ='ffill')\n",
    "stock_grp.tail(20)"
   ],
   "outputs": [
    {
     "name": "stderr",
     "output_type": "stream",
     "text": [
      "/tmp/ipykernel_286499/2294672247.py:1: FutureWarning: The 'fill_method' keyword being not None and the 'limit' keyword in Series.pct_change are deprecated and will be removed in a future version. Either fill in any non-leading NA values prior to calling pct_change or specify 'fill_method=None' to not fill NA values.\n",
      "  stock_grp[\"div_PCT_Change\"] = stock_grp[\"div_adj\"].pct_change(fill_method ='ffill')\n"
     ]
    },
    {
     "data": {
      "text/plain": [
       "      Dividends  Stock Splits  stocksplit_adj   div_adj  div_PCT_Change\n",
       "year                                                                   \n",
       "2008   0.024332           0.0             1.0  0.024332             NaN\n",
       "2009   0.110237           0.0             6.0  0.110237        3.530536\n",
       "2010   0.156855           0.0             7.0  0.156855        0.422889\n",
       "2011   0.174123           0.0             5.0  0.174123        0.110089\n",
       "2012   0.134854           0.0             4.0  0.134854       -0.225524\n",
       "2013   0.164130           0.0             4.0  0.164130        0.217094\n",
       "2014   0.134735           0.0             4.0  0.134735       -0.179096\n",
       "2015   0.266364           0.0             5.0  0.266364        0.976947\n",
       "2016   0.167857           0.0             4.0  0.167857       -0.369821\n",
       "2017   0.150912           0.0             4.0  0.150912       -0.100949\n",
       "2018   0.234043           0.0             4.0  0.234043        0.550857\n",
       "2019   0.268078           0.0             4.0  0.268078        0.145422\n",
       "2020   0.538440           0.0             4.0  0.538440        1.008520\n",
       "2021   0.977915           6.0            42.0  5.447611        9.117397\n",
       "2022   0.469106           0.0            45.0  4.221954       -0.224990\n",
       "2023   0.487233           0.0            54.0  4.385097        0.038642\n",
       "2024   0.305959           0.0            36.0  2.753631       -0.372048"
      ],
      "text/html": [
       "<div>\n",
       "<style scoped>\n",
       "    .dataframe tbody tr th:only-of-type {\n",
       "        vertical-align: middle;\n",
       "    }\n",
       "\n",
       "    .dataframe tbody tr th {\n",
       "        vertical-align: top;\n",
       "    }\n",
       "\n",
       "    .dataframe thead th {\n",
       "        text-align: right;\n",
       "    }\n",
       "</style>\n",
       "<table border=\"1\" class=\"dataframe\">\n",
       "  <thead>\n",
       "    <tr style=\"text-align: right;\">\n",
       "      <th></th>\n",
       "      <th>Dividends</th>\n",
       "      <th>Stock Splits</th>\n",
       "      <th>stocksplit_adj</th>\n",
       "      <th>div_adj</th>\n",
       "      <th>div_PCT_Change</th>\n",
       "    </tr>\n",
       "    <tr>\n",
       "      <th>year</th>\n",
       "      <th></th>\n",
       "      <th></th>\n",
       "      <th></th>\n",
       "      <th></th>\n",
       "      <th></th>\n",
       "    </tr>\n",
       "  </thead>\n",
       "  <tbody>\n",
       "    <tr>\n",
       "      <th>2008</th>\n",
       "      <td>0.024332</td>\n",
       "      <td>0.0</td>\n",
       "      <td>1.0</td>\n",
       "      <td>0.024332</td>\n",
       "      <td>NaN</td>\n",
       "    </tr>\n",
       "    <tr>\n",
       "      <th>2009</th>\n",
       "      <td>0.110237</td>\n",
       "      <td>0.0</td>\n",
       "      <td>6.0</td>\n",
       "      <td>0.110237</td>\n",
       "      <td>3.530536</td>\n",
       "    </tr>\n",
       "    <tr>\n",
       "      <th>2010</th>\n",
       "      <td>0.156855</td>\n",
       "      <td>0.0</td>\n",
       "      <td>7.0</td>\n",
       "      <td>0.156855</td>\n",
       "      <td>0.422889</td>\n",
       "    </tr>\n",
       "    <tr>\n",
       "      <th>2011</th>\n",
       "      <td>0.174123</td>\n",
       "      <td>0.0</td>\n",
       "      <td>5.0</td>\n",
       "      <td>0.174123</td>\n",
       "      <td>0.110089</td>\n",
       "    </tr>\n",
       "    <tr>\n",
       "      <th>2012</th>\n",
       "      <td>0.134854</td>\n",
       "      <td>0.0</td>\n",
       "      <td>4.0</td>\n",
       "      <td>0.134854</td>\n",
       "      <td>-0.225524</td>\n",
       "    </tr>\n",
       "    <tr>\n",
       "      <th>2013</th>\n",
       "      <td>0.164130</td>\n",
       "      <td>0.0</td>\n",
       "      <td>4.0</td>\n",
       "      <td>0.164130</td>\n",
       "      <td>0.217094</td>\n",
       "    </tr>\n",
       "    <tr>\n",
       "      <th>2014</th>\n",
       "      <td>0.134735</td>\n",
       "      <td>0.0</td>\n",
       "      <td>4.0</td>\n",
       "      <td>0.134735</td>\n",
       "      <td>-0.179096</td>\n",
       "    </tr>\n",
       "    <tr>\n",
       "      <th>2015</th>\n",
       "      <td>0.266364</td>\n",
       "      <td>0.0</td>\n",
       "      <td>5.0</td>\n",
       "      <td>0.266364</td>\n",
       "      <td>0.976947</td>\n",
       "    </tr>\n",
       "    <tr>\n",
       "      <th>2016</th>\n",
       "      <td>0.167857</td>\n",
       "      <td>0.0</td>\n",
       "      <td>4.0</td>\n",
       "      <td>0.167857</td>\n",
       "      <td>-0.369821</td>\n",
       "    </tr>\n",
       "    <tr>\n",
       "      <th>2017</th>\n",
       "      <td>0.150912</td>\n",
       "      <td>0.0</td>\n",
       "      <td>4.0</td>\n",
       "      <td>0.150912</td>\n",
       "      <td>-0.100949</td>\n",
       "    </tr>\n",
       "    <tr>\n",
       "      <th>2018</th>\n",
       "      <td>0.234043</td>\n",
       "      <td>0.0</td>\n",
       "      <td>4.0</td>\n",
       "      <td>0.234043</td>\n",
       "      <td>0.550857</td>\n",
       "    </tr>\n",
       "    <tr>\n",
       "      <th>2019</th>\n",
       "      <td>0.268078</td>\n",
       "      <td>0.0</td>\n",
       "      <td>4.0</td>\n",
       "      <td>0.268078</td>\n",
       "      <td>0.145422</td>\n",
       "    </tr>\n",
       "    <tr>\n",
       "      <th>2020</th>\n",
       "      <td>0.538440</td>\n",
       "      <td>0.0</td>\n",
       "      <td>4.0</td>\n",
       "      <td>0.538440</td>\n",
       "      <td>1.008520</td>\n",
       "    </tr>\n",
       "    <tr>\n",
       "      <th>2021</th>\n",
       "      <td>0.977915</td>\n",
       "      <td>6.0</td>\n",
       "      <td>42.0</td>\n",
       "      <td>5.447611</td>\n",
       "      <td>9.117397</td>\n",
       "    </tr>\n",
       "    <tr>\n",
       "      <th>2022</th>\n",
       "      <td>0.469106</td>\n",
       "      <td>0.0</td>\n",
       "      <td>45.0</td>\n",
       "      <td>4.221954</td>\n",
       "      <td>-0.224990</td>\n",
       "    </tr>\n",
       "    <tr>\n",
       "      <th>2023</th>\n",
       "      <td>0.487233</td>\n",
       "      <td>0.0</td>\n",
       "      <td>54.0</td>\n",
       "      <td>4.385097</td>\n",
       "      <td>0.038642</td>\n",
       "    </tr>\n",
       "    <tr>\n",
       "      <th>2024</th>\n",
       "      <td>0.305959</td>\n",
       "      <td>0.0</td>\n",
       "      <td>36.0</td>\n",
       "      <td>2.753631</td>\n",
       "      <td>-0.372048</td>\n",
       "    </tr>\n",
       "  </tbody>\n",
       "</table>\n",
       "</div>"
      ]
     },
     "execution_count": 91,
     "metadata": {},
     "output_type": "execute_result"
    }
   ],
   "execution_count": 91
  },
  {
   "cell_type": "code",
   "id": "1b8abac8",
   "metadata": {
    "ExecuteTime": {
     "end_time": "2024-07-13T03:50:28.069623Z",
     "start_time": "2024-07-13T03:50:27.888782Z"
    }
   },
   "source": [
    "median_growth = stock_grp[\"div_PCT_Change\"].median()\n",
    "median_growth"
   ],
   "outputs": [
    {
     "data": {
      "text/plain": [
       "np.float64(0.12775546537233062)"
      ]
     },
     "execution_count": 92,
     "metadata": {},
     "output_type": "execute_result"
    }
   ],
   "execution_count": 92
  },
  {
   "cell_type": "code",
   "id": "28174476",
   "metadata": {
    "ExecuteTime": {
     "end_time": "2024-07-13T03:50:28.261469Z",
     "start_time": "2024-07-13T03:50:28.071024Z"
    }
   },
   "source": [
    "lst_Div = stock_grp.at[2021,'Dividends']\n",
    "lst_Div"
   ],
   "outputs": [
    {
     "data": {
      "text/plain": [
       "np.float64(0.977915)"
      ]
     },
     "execution_count": 93,
     "metadata": {},
     "output_type": "execute_result"
    }
   ],
   "execution_count": 93
  },
  {
   "cell_type": "code",
   "id": "9f3b456b",
   "metadata": {
    "ExecuteTime": {
     "end_time": "2024-07-13T03:50:28.419579Z",
     "start_time": "2024-07-13T03:50:28.262573Z"
    }
   },
   "source": [
    "exp_future_div = round(lst_Div * (1 + median_growth),2)\n",
    "exp_future_div"
   ],
   "outputs": [
    {
     "data": {
      "text/plain": [
       "np.float64(1.1)"
      ]
     },
     "execution_count": 94,
     "metadata": {},
     "output_type": "execute_result"
    }
   ],
   "execution_count": 94
  },
  {
   "cell_type": "code",
   "id": "e0707bec",
   "metadata": {
    "ExecuteTime": {
     "end_time": "2024-07-13T03:50:28.534688Z",
     "start_time": "2024-07-13T03:50:28.420887Z"
    }
   },
   "source": [
    "# If you want to use the 10 year treasury yield today use this code\n",
    "#bond = yf.Ticker(\"^TNX\")\n",
    "#hist = bond.history(period=\"today\")\n",
    "#risk_free_rate = round(hist.iloc[0]['Close']/100,4)\n",
    "#risk_free_rate"
   ],
   "outputs": [],
   "execution_count": 95
  },
  {
   "cell_type": "code",
   "id": "e84748c8",
   "metadata": {
    "ExecuteTime": {
     "end_time": "2024-07-13T03:50:28.668247Z",
     "start_time": "2024-07-13T03:50:28.535788Z"
    }
   },
   "source": [
    "risk_free_rate = 0.03"
   ],
   "outputs": [],
   "execution_count": 96
  },
  {
   "cell_type": "code",
   "id": "b8446e44",
   "metadata": {
    "ExecuteTime": {
     "end_time": "2024-07-13T03:50:28.793380Z",
     "start_time": "2024-07-13T03:50:28.669389Z"
    }
   },
   "source": [
    "# assume the avg return for sp500 = 11%\n",
    "mkt_return = .11"
   ],
   "outputs": [],
   "execution_count": 97
  },
  {
   "cell_type": "code",
   "id": "1ddc9e9e",
   "metadata": {
    "ExecuteTime": {
     "end_time": "2024-07-13T03:50:28.935752Z",
     "start_time": "2024-07-13T03:50:28.794327Z"
    }
   },
   "source": [
    "MKT_Risk_prem = mkt_return - risk_free_rate\n",
    "MKT_Risk_prem"
   ],
   "outputs": [
    {
     "data": {
      "text/plain": [
       "0.08"
      ]
     },
     "execution_count": 98,
     "metadata": {},
     "output_type": "execute_result"
    }
   ],
   "execution_count": 98
  },
  {
   "cell_type": "code",
   "id": "a715e191",
   "metadata": {
    "scrolled": true,
    "ExecuteTime": {
     "end_time": "2024-07-13T03:50:29.505137Z",
     "start_time": "2024-07-13T03:50:28.936804Z"
    }
   },
   "source": [
    "beta = ticker.info[\"beta\"]\n",
    "beta"
   ],
   "outputs": [
    {
     "data": {
      "text/plain": [
       "0.59"
      ]
     },
     "execution_count": 99,
     "metadata": {},
     "output_type": "execute_result"
    }
   ],
   "execution_count": 99
  },
  {
   "cell_type": "code",
   "id": "e2d80515",
   "metadata": {
    "scrolled": true,
    "ExecuteTime": {
     "end_time": "2024-07-13T03:50:29.509388Z",
     "start_time": "2024-07-13T03:50:29.505955Z"
    }
   },
   "source": [
    "COE = round(beta * MKT_Risk_prem + risk_free_rate,4)\n",
    "COE"
   ],
   "outputs": [
    {
     "data": {
      "text/plain": [
       "0.0772"
      ]
     },
     "execution_count": 100,
     "metadata": {},
     "output_type": "execute_result"
    }
   ],
   "execution_count": 100
  },
  {
   "cell_type": "code",
   "id": "d4685645",
   "metadata": {
    "ExecuteTime": {
     "end_time": "2024-07-13T03:50:29.635433Z",
     "start_time": "2024-07-13T03:50:29.510211Z"
    }
   },
   "source": [
    "fair_sharePrice = abs(round(exp_future_div/(COE-median_growth),2))\n",
    "fair_sharePrice"
   ],
   "outputs": [
    {
     "data": {
      "text/plain": [
       "np.float64(21.76)"
      ]
     },
     "execution_count": 101,
     "metadata": {},
     "output_type": "execute_result"
    }
   ],
   "execution_count": 101
  }
 ],
 "metadata": {
  "kernelspec": {
   "display_name": "Python 3 (ipykernel)",
   "language": "python",
   "name": "python3"
  },
  "language_info": {
   "codemirror_mode": {
    "name": "ipython",
    "version": 3
   },
   "file_extension": ".py",
   "mimetype": "text/x-python",
   "name": "python",
   "nbconvert_exporter": "python",
   "pygments_lexer": "ipython3",
   "version": "3.8.0"
  }
 },
 "nbformat": 4,
 "nbformat_minor": 5
}
