{
 "cells": [
  {
   "metadata": {
    "ExecuteTime": {
     "end_time": "2024-07-02T02:18:10.340929Z",
     "start_time": "2024-07-02T02:18:08.864292Z"
    }
   },
   "cell_type": "code",
   "source": [
    "import pickle\n",
    "from pathlib import Path\n",
    "from pprint import pprint\n",
    "from typing import List\n",
    "\n",
    "import pandas as pd\n",
    "import yfinance as yf"
   ],
   "id": "dd06f6c019b810be",
   "outputs": [],
   "execution_count": 1
  },
  {
   "metadata": {
    "ExecuteTime": {
     "end_time": "2024-07-02T02:20:01.961126Z",
     "start_time": "2024-07-02T02:20:01.955171Z"
    }
   },
   "cell_type": "code",
   "source": [
    "import yfinance as yf\n",
    "import pandas as pd\n",
    "\n",
    "def get_correlations(ticker: str) -> pd.DataFrame:\n",
    "    stock = yf.Ticker(ticker)\n",
    "\n",
    "    # Coletando dados financeiros e históricos de dividendos\n",
    "    dividends = stock.dividends\n",
    "    financials = stock.financials.transpose()\n",
    "    balance_sheet = stock.balance_sheet.transpose()\n",
    "    cash_flow = stock.cashflow.transpose()\n",
    "\n",
    "    # Agrupar dividendos por ano\n",
    "    dividends = dividends.to_frame().reset_index()\n",
    "    grouped_dividends = dividends.groupby(pd.Grouper(key='Date', freq='YE')).sum()\n",
    "    grouped_dividends.index = grouped_dividends.index.tz_localize(None)\n",
    "\n",
    "    # Consolidando todos os dados em um único DataFrame\n",
    "    data_frames = [financials, balance_sheet, cash_flow]\n",
    "    df = pd.concat(data_frames, axis=1)\n",
    "\n",
    "    # Converter colunas para tipos numéricos, ignorando erros\n",
    "    df = df.apply(pd.to_numeric, errors='coerce')\n",
    "\n",
    "    # Tratar dados ausentes com interpolação\n",
    "    df.interpolate(method='linear', limit_direction='both', inplace=True)\n",
    "    df = df.infer_objects(copy=False)\n",
    "\n",
    "    # Juntar \"grouped_dividends\" com \"df\" apenas onde \"df\" possui a data (index)\n",
    "    df = df.merge(grouped_dividends, left_index=True, right_index=True)\n",
    "\n",
    "    # Calculando a correlação\n",
    "    correlation_matrix = df.corr()\n",
    "    \n",
    "    if 'Dividends' not in correlation_matrix:\n",
    "        return pd.DataFrame()\n",
    "    \n",
    "    dividend_corr = correlation_matrix['Dividends'].dropna()\n",
    "    dividend_corr.name = ticker\n",
    "    return dividend_corr.to_frame().transpose()\n"
   ],
   "id": "9d4a97507a780f26",
   "outputs": [],
   "execution_count": 5
  },
  {
   "metadata": {
    "ExecuteTime": {
     "end_time": "2024-07-02T02:27:13.746375Z",
     "start_time": "2024-07-02T02:27:13.741581Z"
    }
   },
   "cell_type": "code",
   "source": [
    "def get_strong_features_for_dividends(tickers: List[str]) -> pd.DataFrame:\n",
    "    all_correlations = pd.DataFrame()\n",
    "\n",
    "    # Coletar correlações para todos os ativos\n",
    "    for ticker in tickers:\n",
    "        corr = get_correlations(ticker)\n",
    "\n",
    "        if corr is not None:\n",
    "            all_correlations = pd.concat([all_correlations, corr], axis=0)\n",
    "\n",
    "    # Preencher valores ausentes com 0\n",
    "    all_correlations.fillna(0, inplace=True)\n",
    "    \n",
    "    # Calculando a média das correlações\n",
    "    mean_correlation = all_correlations.median().dropna()\n",
    "\n",
    "    # Filtrando os componentes financeiros com forte correlação\n",
    "    strong_correlations = mean_correlation[(mean_correlation >= 0.7) & (mean_correlation < 1.0)]\n",
    "    \n",
    "    return strong_correlations"
   ],
   "id": "88a26642ca144f76",
   "outputs": [],
   "execution_count": 15
  },
  {
   "metadata": {},
   "cell_type": "markdown",
   "source": "# Testing",
   "id": "b18c4e81246b6a9"
  },
  {
   "metadata": {
    "ExecuteTime": {
     "end_time": "2024-07-02T02:20:10.811933Z",
     "start_time": "2024-07-02T02:20:04.685508Z"
    }
   },
   "cell_type": "code",
   "source": "get_correlations(\"VALE3.SA\")",
   "id": "1092511a96ce11bd",
   "outputs": [
    {
     "data": {
      "text/plain": [
       "          Tax Effect Of Unusual Items  Tax Rate For Calcs  Normalized EBITDA  \\\n",
       "VALE3.SA                      0.87849            0.175742           0.878895   \n",
       "\n",
       "          Total Unusual Items  Total Unusual Items Excluding Goodwill  \\\n",
       "VALE3.SA             0.833997                                0.833997   \n",
       "\n",
       "          Net Income From Continuing Operation Net Minority Interest  \\\n",
       "VALE3.SA                                           0.980163            \n",
       "\n",
       "          Reconciled Depreciation  Reconciled Cost Of Revenue   EBITDA  \\\n",
       "VALE3.SA                -0.768362                    0.507079  0.99093   \n",
       "\n",
       "              EBIT  ...  Other Non Cash Items  \\\n",
       "VALE3.SA  0.991605  ...             -0.946373   \n",
       "\n",
       "          Provisionand Write Offof Assets  Asset Impairment Charge  \\\n",
       "VALE3.SA                        -0.524193                -0.484707   \n",
       "\n",
       "          Depreciation Amortization Depletion  Operating Gains Losses  \\\n",
       "VALE3.SA                            -0.768362               -0.574595   \n",
       "\n",
       "          Earnings Losses From Equity Investments  \\\n",
       "VALE3.SA                                 0.003931   \n",
       "\n",
       "          Gain Loss On Investment Securities  \\\n",
       "VALE3.SA                           -0.421675   \n",
       "\n",
       "          Net Foreign Currency Exchange Gain Loss  \\\n",
       "VALE3.SA                                -0.499534   \n",
       "\n",
       "          Net Income From Continuing Operations  Dividends  \n",
       "VALE3.SA                               0.989207        1.0  \n",
       "\n",
       "[1 rows x 207 columns]"
      ],
      "text/html": [
       "<div>\n",
       "<style scoped>\n",
       "    .dataframe tbody tr th:only-of-type {\n",
       "        vertical-align: middle;\n",
       "    }\n",
       "\n",
       "    .dataframe tbody tr th {\n",
       "        vertical-align: top;\n",
       "    }\n",
       "\n",
       "    .dataframe thead th {\n",
       "        text-align: right;\n",
       "    }\n",
       "</style>\n",
       "<table border=\"1\" class=\"dataframe\">\n",
       "  <thead>\n",
       "    <tr style=\"text-align: right;\">\n",
       "      <th></th>\n",
       "      <th>Tax Effect Of Unusual Items</th>\n",
       "      <th>Tax Rate For Calcs</th>\n",
       "      <th>Normalized EBITDA</th>\n",
       "      <th>Total Unusual Items</th>\n",
       "      <th>Total Unusual Items Excluding Goodwill</th>\n",
       "      <th>Net Income From Continuing Operation Net Minority Interest</th>\n",
       "      <th>Reconciled Depreciation</th>\n",
       "      <th>Reconciled Cost Of Revenue</th>\n",
       "      <th>EBITDA</th>\n",
       "      <th>EBIT</th>\n",
       "      <th>...</th>\n",
       "      <th>Other Non Cash Items</th>\n",
       "      <th>Provisionand Write Offof Assets</th>\n",
       "      <th>Asset Impairment Charge</th>\n",
       "      <th>Depreciation Amortization Depletion</th>\n",
       "      <th>Operating Gains Losses</th>\n",
       "      <th>Earnings Losses From Equity Investments</th>\n",
       "      <th>Gain Loss On Investment Securities</th>\n",
       "      <th>Net Foreign Currency Exchange Gain Loss</th>\n",
       "      <th>Net Income From Continuing Operations</th>\n",
       "      <th>Dividends</th>\n",
       "    </tr>\n",
       "  </thead>\n",
       "  <tbody>\n",
       "    <tr>\n",
       "      <th>VALE3.SA</th>\n",
       "      <td>0.87849</td>\n",
       "      <td>0.175742</td>\n",
       "      <td>0.878895</td>\n",
       "      <td>0.833997</td>\n",
       "      <td>0.833997</td>\n",
       "      <td>0.980163</td>\n",
       "      <td>-0.768362</td>\n",
       "      <td>0.507079</td>\n",
       "      <td>0.99093</td>\n",
       "      <td>0.991605</td>\n",
       "      <td>...</td>\n",
       "      <td>-0.946373</td>\n",
       "      <td>-0.524193</td>\n",
       "      <td>-0.484707</td>\n",
       "      <td>-0.768362</td>\n",
       "      <td>-0.574595</td>\n",
       "      <td>0.003931</td>\n",
       "      <td>-0.421675</td>\n",
       "      <td>-0.499534</td>\n",
       "      <td>0.989207</td>\n",
       "      <td>1.0</td>\n",
       "    </tr>\n",
       "  </tbody>\n",
       "</table>\n",
       "<p>1 rows × 207 columns</p>\n",
       "</div>"
      ]
     },
     "execution_count": 7,
     "metadata": {},
     "output_type": "execute_result"
    }
   ],
   "execution_count": 7
  },
  {
   "metadata": {
    "ExecuteTime": {
     "end_time": "2024-07-02T02:27:20.546901Z",
     "start_time": "2024-07-02T02:27:17.187603Z"
    }
   },
   "cell_type": "code",
   "source": [
    "tickers = ['VAMO3.SA', 'VIVT3.SA', 'VULC3.SA', 'YDUQ3.SA', 'ZAMP3.SA']\n",
    "\n",
    "get_strong_features_for_dividends(tickers)"
   ],
   "id": "2b970356cf44b7b2",
   "outputs": [
    {
     "data": {
      "text/plain": [
       "EBIT                                                0.765349\n",
       "Pretax Income                                       0.756286\n",
       "Working Capital                                     0.716234\n",
       "Common Stock Equity                                 0.775856\n",
       "Total Equity Gross Minority Interest                0.767623\n",
       "Stockholders Equity                                 0.775856\n",
       "Tradeand Other Payables Non Current                 0.787373\n",
       "Cash Cash Equivalents And Short Term Investments    0.756647\n",
       "Cash And Cash Equivalents                           0.901718\n",
       "Cash Equivalents                                    0.866884\n",
       "Issuance Of Capital Stock                           0.712075\n",
       "End Cash Position                                   0.901718\n",
       "Changes In Cash                                     0.852452\n",
       "Common Stock Issuance                               0.712075\n",
       "Investing Cash Flow                                 0.729320\n",
       "Net Income From Continuing Operations               0.756286\n",
       "Rent Expense Supplemental                           0.961891\n",
       "dtype: float64"
      ]
     },
     "execution_count": 16,
     "metadata": {},
     "output_type": "execute_result"
    }
   ],
   "execution_count": 16
  },
  {
   "metadata": {
    "ExecuteTime": {
     "end_time": "2024-07-02T02:32:35.184468Z",
     "start_time": "2024-07-02T02:32:35.168031Z"
    }
   },
   "cell_type": "code",
   "source": [
    "with open(\"data/dividend_clusters.pkl\", mode=\"rb\") as file:\n",
    "    dividend_clusters = pickle.load(file)\n",
    "    pprint(dividend_clusters)"
   ],
   "id": "a621a759a20b55ca",
   "outputs": [
    {
     "name": "stdout",
     "output_type": "stream",
     "text": [
      "{0: ['VAMO3.SA', 'VIVT3.SA', 'VULC3.SA', 'YDUQ3.SA', 'ZAMP3.SA'],\n",
      " 1: ['VBBR3.SA', 'VIVA3.SA', 'VLID3.SA', 'WEGE3.SA', 'WIZC3.SA']}\n"
     ]
    }
   ],
   "execution_count": 18
  },
  {
   "metadata": {
    "ExecuteTime": {
     "end_time": "2024-07-02T02:32:47.756376Z",
     "start_time": "2024-07-02T02:32:36.037752Z"
    }
   },
   "cell_type": "code",
   "source": [
    "clusters = []\n",
    "\n",
    "for tickers in dividend_clusters.values():\n",
    "    features_corr = get_strong_features_for_dividends(tickers)\n",
    "    \n",
    "    clusters.append({\n",
    "        \"tickers\": tickers,\n",
    "        \"dividend_features_corr\": features_corr\n",
    "    })\n",
    "    \n",
    "    \n",
    "clusters"
   ],
   "id": "55a3cecc939f2629",
   "outputs": [
    {
     "data": {
      "text/plain": [
       "[{'tickers': ['VAMO3.SA', 'VIVT3.SA', 'VULC3.SA', 'YDUQ3.SA', 'ZAMP3.SA'],\n",
       "  'dividend_features_corr': EBIT                                                0.765349\n",
       "  Pretax Income                                       0.756286\n",
       "  Working Capital                                     0.716234\n",
       "  Common Stock Equity                                 0.775856\n",
       "  Total Equity Gross Minority Interest                0.767623\n",
       "  Stockholders Equity                                 0.775856\n",
       "  Tradeand Other Payables Non Current                 0.787373\n",
       "  Cash Cash Equivalents And Short Term Investments    0.756647\n",
       "  Cash And Cash Equivalents                           0.901718\n",
       "  Cash Equivalents                                    0.866884\n",
       "  Issuance Of Capital Stock                           0.712075\n",
       "  End Cash Position                                   0.901718\n",
       "  Changes In Cash                                     0.852452\n",
       "  Common Stock Issuance                               0.712075\n",
       "  Investing Cash Flow                                 0.729320\n",
       "  Net Income From Continuing Operations               0.756286\n",
       "  Rent Expense Supplemental                           0.961891\n",
       "  dtype: float64},\n",
       " {'tickers': ['VBBR3.SA', 'VIVA3.SA', 'VLID3.SA', 'WEGE3.SA', 'WIZC3.SA'],\n",
       "  'dividend_features_corr': Machinery Furniture Equipment    0.748811\n",
       "  dtype: float64}]"
      ]
     },
     "execution_count": 19,
     "metadata": {},
     "output_type": "execute_result"
    }
   ],
   "execution_count": 19
  },
  {
   "metadata": {
    "ExecuteTime": {
     "end_time": "2024-07-02T02:33:55.819649Z",
     "start_time": "2024-07-02T02:33:55.815189Z"
    }
   },
   "cell_type": "code",
   "source": [
    "path = Path(\"data/dividend_features.pkl\")\n",
    "path.parent.mkdir(exist_ok=True)\n",
    "\n",
    "with open(path, mode=\"wb\") as file:\n",
    "    pickle.dump(clusters, file)"
   ],
   "id": "82c63e22c47c3933",
   "outputs": [],
   "execution_count": 20
  },
  {
   "metadata": {},
   "cell_type": "code",
   "outputs": [],
   "execution_count": null,
   "source": "",
   "id": "5060b2486a355353"
  }
 ],
 "metadata": {
  "kernelspec": {
   "display_name": "Python 3",
   "language": "python",
   "name": "python3"
  },
  "language_info": {
   "codemirror_mode": {
    "name": "ipython",
    "version": 2
   },
   "file_extension": ".py",
   "mimetype": "text/x-python",
   "name": "python",
   "nbconvert_exporter": "python",
   "pygments_lexer": "ipython2",
   "version": "2.7.6"
  }
 },
 "nbformat": 4,
 "nbformat_minor": 5
}
