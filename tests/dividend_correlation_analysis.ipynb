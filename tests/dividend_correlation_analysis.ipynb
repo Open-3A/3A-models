{
 "cells": [
  {
   "cell_type": "code",
   "id": "initial_id",
   "metadata": {
    "collapsed": true,
    "ExecuteTime": {
     "end_time": "2024-06-30T15:51:29.972316Z",
     "start_time": "2024-06-30T15:51:28.521656Z"
    }
   },
   "source": "!pip install yfinance pandas numpy --quiet",
   "outputs": [
    {
     "name": "stdout",
     "output_type": "stream",
     "text": [
      "\r\n",
      "\u001B[1m[\u001B[0m\u001B[34;49mnotice\u001B[0m\u001B[1;39;49m]\u001B[0m\u001B[39;49m A new release of pip is available: \u001B[0m\u001B[31;49m23.2.1\u001B[0m\u001B[39;49m -> \u001B[0m\u001B[32;49m24.1.1\u001B[0m\r\n",
      "\u001B[1m[\u001B[0m\u001B[34;49mnotice\u001B[0m\u001B[1;39;49m]\u001B[0m\u001B[39;49m To update, run: \u001B[0m\u001B[32;49mpip install --upgrade pip\u001B[0m\r\n"
     ]
    }
   ],
   "execution_count": 2
  },
  {
   "metadata": {
    "ExecuteTime": {
     "end_time": "2024-06-30T17:06:32.993990Z",
     "start_time": "2024-06-30T17:06:32.991855Z"
    }
   },
   "cell_type": "code",
   "source": [
    "import yfinance as yf\n",
    "import pandas as pd\n",
    "\n",
    "from typing import Dict\n",
    "from pathlib import Path\n",
    "import pickle"
   ],
   "id": "dd06f6c019b810be",
   "outputs": [],
   "execution_count": 47
  },
  {
   "metadata": {
    "ExecuteTime": {
     "end_time": "2024-06-30T17:04:29.448029Z",
     "start_time": "2024-06-30T17:04:29.444179Z"
    }
   },
   "cell_type": "code",
   "source": [
    "# Lista de ativos\n",
    "assets = {\n",
    "    'VAMO3': 'VAMO3.SA',\n",
    "    'VBBR3': 'VBBR3.SA',\n",
    "    'VIVA3': 'VIVA3.SA',\n",
    "    'VIVT3': 'VIVT3.SA',\n",
    "    'VLID3': 'VLID3.SA',\n",
    "    'VULC3': 'VULC3.SA',\n",
    "    'WEGE3': 'WEGE3.SA',\n",
    "    'WIZC3': 'WIZC3.SA',\n",
    "    'YDUQ3': 'YDUQ3.SA',\n",
    "    'ZAMP3': 'ZAMP3.SA'\n",
    "}"
   ],
   "id": "6aa491ac2585ef6c",
   "outputs": [],
   "execution_count": 41
  },
  {
   "metadata": {
    "ExecuteTime": {
     "end_time": "2024-06-30T17:04:29.843070Z",
     "start_time": "2024-06-30T17:04:29.835996Z"
    }
   },
   "cell_type": "code",
   "source": [
    "def get_correlations(ticker: str) -> pd.DataFrame:\n",
    "    stock = yf.Ticker(ticker)\n",
    "\n",
    "    # Coletando dados financeiros e históricos de dividendos\n",
    "    dividends = stock.dividends\n",
    "    financials = stock.financials.transpose()\n",
    "    balance_sheet = stock.balance_sheet.transpose()\n",
    "    cash_flow = stock.cashflow.transpose()\n",
    "\n",
    "    # Agrupar dividendos por ano\n",
    "    dividends = dividends.to_frame().reset_index()\n",
    "    grouped_dividends = dividends.groupby(pd.Grouper(key='Date', freq='YE')).sum()\n",
    "    grouped_dividends.index = grouped_dividends.index.tz_localize(None)\n",
    "\n",
    "    # Consolidando todos os dados em um único DataFrame\n",
    "    data_frames = [financials, balance_sheet, cash_flow]\n",
    "    df = pd.concat(data_frames, axis=1)\n",
    "\n",
    "    # Converter colunas para tipos numéricos, ignorando erros\n",
    "    df = df.apply(pd.to_numeric, errors='coerce')\n",
    "\n",
    "    # Tratar dados ausentes com interpolação\n",
    "    df.interpolate(method='linear', limit_direction='both', inplace=True)\n",
    "    df = df.infer_objects(copy=False)\n",
    "\n",
    "    # Juntar \"grouped_dividends\" com \"df\" apenas onde \"df\" possui a data (index)\n",
    "    df = df.merge(grouped_dividends, left_index=True, right_index=True)\n",
    "\n",
    "    # Calculando a correlação\n",
    "    correlation_matrix = df.corr()\n",
    "    \n",
    "    if 'Dividends' not in correlation_matrix:\n",
    "        return None\n",
    "    \n",
    "    # Retornar apenas a coluna 'Dividends' da correlação\n",
    "    else:\n",
    "        dividend_corr = correlation_matrix['Dividends'].dropna()\n",
    "        return dividend_corr"
   ],
   "id": "9d4a97507a780f26",
   "outputs": [],
   "execution_count": 42
  },
  {
   "metadata": {
    "ExecuteTime": {
     "end_time": "2024-06-30T17:04:30.270283Z",
     "start_time": "2024-06-30T17:04:30.265856Z"
    }
   },
   "cell_type": "code",
   "source": [
    "def get_strong_features_for_dividends(tickers: Dict[str, str]) -> pd.Series:\n",
    "    correlations = []\n",
    "    \n",
    "    # Coletar correlações para todos os ativos\n",
    "    for code, ticker in tickers.items():\n",
    "        corr = get_correlations(ticker)\n",
    "\n",
    "        if corr is None:\n",
    "            continue\n",
    "            \n",
    "        correlations.append(corr)\n",
    "\n",
    "    # Convertendo a lista de correlações em um DataFrame\n",
    "    correlation_df = pd.DataFrame(correlations)\n",
    "    \n",
    "    # Calculando a média das correlações\n",
    "    mean_correlation = correlation_df.mean().dropna()\n",
    "    \n",
    "    # Filtrando os componentes financeiros com forte correlação\n",
    "    strong_correlations = mean_correlation[(abs(mean_correlation) >= 0.7) & (abs(mean_correlation) < 1.0)]\n",
    "    \n",
    "    return strong_correlations"
   ],
   "id": "88a26642ca144f76",
   "outputs": [],
   "execution_count": 43
  },
  {
   "metadata": {},
   "cell_type": "markdown",
   "source": "# Testing",
   "id": "b18c4e81246b6a9"
  },
  {
   "metadata": {
    "ExecuteTime": {
     "end_time": "2024-06-30T17:09:48.988700Z",
     "start_time": "2024-06-30T17:09:43.201746Z"
    }
   },
   "cell_type": "code",
   "source": [
    "features = get_strong_features_for_dividends(assets)\n",
    "features"
   ],
   "id": "55a3cecc939f2629",
   "outputs": [
    {
     "data": {
      "text/plain": [
       "Gains Losses Not Affecting Retained Earnings      0.780313\n",
       "Other Equity Adjustments                          0.780313\n",
       "Non Current Deferred Assets                      -0.780946\n",
       "Restricted Cash                                  -0.738575\n",
       "Cash Flow From Continuing Investing Activities    0.729320\n",
       "Operating Gains Losses                           -0.709049\n",
       "Amortization                                     -0.881914\n",
       "Investment Properties                            -0.877511\n",
       "Sale Of Intangibles                               0.717746\n",
       "dtype: float64"
      ]
     },
     "execution_count": 51,
     "metadata": {},
     "output_type": "execute_result"
    }
   ],
   "execution_count": 51
  },
  {
   "metadata": {
    "ExecuteTime": {
     "end_time": "2024-06-30T17:09:48.992190Z",
     "start_time": "2024-06-30T17:09:48.989651Z"
    }
   },
   "cell_type": "code",
   "source": [
    "path = Path(\"data/dividend_features.pkl\")\n",
    "path.parent.mkdir(exist_ok=True)\n",
    "\n",
    "with open(path, mode=\"wb\") as file:\n",
    "    pickle.dump(features.to_dict(), file)"
   ],
   "id": "82c63e22c47c3933",
   "outputs": [],
   "execution_count": 52
  },
  {
   "metadata": {
    "ExecuteTime": {
     "end_time": "2024-06-30T17:09:49.048553Z",
     "start_time": "2024-06-30T17:09:48.992836Z"
    }
   },
   "cell_type": "code",
   "source": [
    "with open(path, mode=\"rb\") as file:\n",
    "    loaded_features = pickle.load(file)\n",
    "    print(loaded_features)"
   ],
   "id": "f1e29ca615783b24",
   "outputs": [
    {
     "name": "stdout",
     "output_type": "stream",
     "text": [
      "{'Gains Losses Not Affecting Retained Earnings': 0.7803131830314887, 'Other Equity Adjustments': 0.7803131830314887, 'Non Current Deferred Assets': -0.78094572622172, 'Restricted Cash': -0.7385747996935287, 'Cash Flow From Continuing Investing Activities': 0.7293202641395593, 'Operating Gains Losses': -0.7090485662485018, 'Amortization': -0.8819141198750613, 'Investment Properties': -0.8775108555742024, 'Sale Of Intangibles': 0.7177459085570809}\n"
     ]
    }
   ],
   "execution_count": 53
  },
  {
   "metadata": {},
   "cell_type": "code",
   "outputs": [],
   "execution_count": null,
   "source": "",
   "id": "5060b2486a355353"
  }
 ],
 "metadata": {
  "kernelspec": {
   "display_name": "Python 3",
   "language": "python",
   "name": "python3"
  },
  "language_info": {
   "codemirror_mode": {
    "name": "ipython",
    "version": 2
   },
   "file_extension": ".py",
   "mimetype": "text/x-python",
   "name": "python",
   "nbconvert_exporter": "python",
   "pygments_lexer": "ipython2",
   "version": "2.7.6"
  }
 },
 "nbformat": 4,
 "nbformat_minor": 5
}
