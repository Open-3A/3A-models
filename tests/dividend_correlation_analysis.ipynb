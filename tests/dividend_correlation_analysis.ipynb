{
 "cells": [
  {
   "cell_type": "code",
   "id": "initial_id",
   "metadata": {
    "collapsed": true,
    "ExecuteTime": {
     "end_time": "2024-06-30T15:51:29.972316Z",
     "start_time": "2024-06-30T15:51:28.521656Z"
    }
   },
   "source": "!pip install yfinance pandas numpy --quiet",
   "outputs": [
    {
     "name": "stdout",
     "output_type": "stream",
     "text": [
      "\r\n",
      "\u001B[1m[\u001B[0m\u001B[34;49mnotice\u001B[0m\u001B[1;39;49m]\u001B[0m\u001B[39;49m A new release of pip is available: \u001B[0m\u001B[31;49m23.2.1\u001B[0m\u001B[39;49m -> \u001B[0m\u001B[32;49m24.1.1\u001B[0m\r\n",
      "\u001B[1m[\u001B[0m\u001B[34;49mnotice\u001B[0m\u001B[1;39;49m]\u001B[0m\u001B[39;49m To update, run: \u001B[0m\u001B[32;49mpip install --upgrade pip\u001B[0m\r\n"
     ]
    }
   ],
   "execution_count": 2
  },
  {
   "metadata": {
    "ExecuteTime": {
     "end_time": "2024-07-01T01:19:36.948062Z",
     "start_time": "2024-07-01T01:19:36.944470Z"
    }
   },
   "cell_type": "code",
   "source": [
    "import yfinance as yf\n",
    "import pandas as pd\n",
    "\n",
    "from typing import Dict, List\n",
    "from pathlib import Path\n",
    "import pickle\n",
    "from pprint import pprint\n",
    "from dataclasses import dataclass"
   ],
   "id": "dd06f6c019b810be",
   "outputs": [],
   "execution_count": 14
  },
  {
   "metadata": {
    "ExecuteTime": {
     "end_time": "2024-07-01T01:19:37.986904Z",
     "start_time": "2024-07-01T01:19:37.979237Z"
    }
   },
   "cell_type": "code",
   "source": [
    "def get_correlations(ticker: str) -> pd.DataFrame:\n",
    "    stock = yf.Ticker(ticker)\n",
    "\n",
    "    # Coletando dados financeiros e históricos de dividendos\n",
    "    dividends = stock.dividends\n",
    "    financials = stock.financials.transpose()\n",
    "    balance_sheet = stock.balance_sheet.transpose()\n",
    "    cash_flow = stock.cashflow.transpose()\n",
    "\n",
    "    # Agrupar dividendos por ano\n",
    "    dividends = dividends.to_frame().reset_index()\n",
    "    grouped_dividends = dividends.groupby(pd.Grouper(key='Date', freq='YE')).sum()\n",
    "    grouped_dividends.index = grouped_dividends.index.tz_localize(None)\n",
    "\n",
    "    # Consolidando todos os dados em um único DataFrame\n",
    "    data_frames = [financials, balance_sheet, cash_flow]\n",
    "    df = pd.concat(data_frames, axis=1)\n",
    "\n",
    "    # Converter colunas para tipos numéricos, ignorando erros\n",
    "    df = df.apply(pd.to_numeric, errors='coerce')\n",
    "\n",
    "    # Tratar dados ausentes com interpolação\n",
    "    df.interpolate(method='linear', limit_direction='both', inplace=True)\n",
    "    df = df.infer_objects(copy=False)\n",
    "\n",
    "    # Juntar \"grouped_dividends\" com \"df\" apenas onde \"df\" possui a data (index)\n",
    "    df = df.merge(grouped_dividends, left_index=True, right_index=True)\n",
    "\n",
    "    # Calculando a correlação\n",
    "    correlation_matrix = df.corr()\n",
    "    \n",
    "    if 'Dividends' not in correlation_matrix:\n",
    "        return None\n",
    "    \n",
    "    # Retornar apenas a coluna 'Dividends' da correlação\n",
    "    else:\n",
    "        dividend_corr = correlation_matrix['Dividends'].dropna()\n",
    "        return dividend_corr"
   ],
   "id": "9d4a97507a780f26",
   "outputs": [],
   "execution_count": 15
  },
  {
   "metadata": {
    "ExecuteTime": {
     "end_time": "2024-07-01T01:21:19.813740Z",
     "start_time": "2024-07-01T01:21:19.807639Z"
    }
   },
   "cell_type": "code",
   "source": [
    "def get_strong_features_for_dividends(tickers: List[str]) -> pd.Series:\n",
    "    correlations = []\n",
    "    \n",
    "    # Coletar correlações para todos os ativos\n",
    "    for ticker in tickers:\n",
    "        corr = get_correlations(ticker)\n",
    "\n",
    "        if corr is None:\n",
    "            continue\n",
    "            \n",
    "        correlations.append(corr)\n",
    "\n",
    "    # Convertendo a lista de correlações em um DataFrame\n",
    "    correlation_df = pd.DataFrame(correlations)\n",
    "    \n",
    "    # Calculando a média das correlações\n",
    "    mean_correlation = correlation_df.mean().dropna()\n",
    "    \n",
    "    # Filtrando os componentes financeiros com forte correlação\n",
    "    strong_correlations = mean_correlation[(abs(mean_correlation) >= 0.7) & (abs(mean_correlation) < 1.0)]\n",
    "    \n",
    "    return strong_correlations"
   ],
   "id": "88a26642ca144f76",
   "outputs": [],
   "execution_count": 21
  },
  {
   "metadata": {
    "ExecuteTime": {
     "end_time": "2024-07-01T01:21:20.629392Z",
     "start_time": "2024-07-01T01:21:20.626710Z"
    }
   },
   "cell_type": "code",
   "source": [
    "@dataclass\n",
    "class Cluster:\n",
    "    tickers: List[str]\n",
    "    dividend_features_corr: pd.Series"
   ],
   "id": "494599dc3de55d28",
   "outputs": [],
   "execution_count": 22
  },
  {
   "metadata": {},
   "cell_type": "markdown",
   "source": "# Testing",
   "id": "b18c4e81246b6a9"
  },
  {
   "metadata": {
    "ExecuteTime": {
     "end_time": "2024-07-01T01:21:22.200321Z",
     "start_time": "2024-07-01T01:21:22.196269Z"
    }
   },
   "cell_type": "code",
   "source": [
    "with open(\"data/dividend_clusters.pkl\", mode=\"rb\") as file:\n",
    "    dividend_clusters = pickle.load(file)\n",
    "    pprint(dividend_clusters)"
   ],
   "id": "a621a759a20b55ca",
   "outputs": [
    {
     "name": "stdout",
     "output_type": "stream",
     "text": [
      "{0: ['VAMO3.SA', 'VIVT3.SA', 'VULC3.SA', 'YDUQ3.SA', 'ZAMP3.SA'],\n",
      " 1: ['VBBR3.SA', 'VIVA3.SA', 'VLID3.SA', 'WEGE3.SA', 'WIZC3.SA']}\n"
     ]
    }
   ],
   "execution_count": 23
  },
  {
   "metadata": {
    "ExecuteTime": {
     "end_time": "2024-07-01T01:21:38.719051Z",
     "start_time": "2024-07-01T01:21:23.042818Z"
    }
   },
   "cell_type": "code",
   "source": [
    "clusters = []\n",
    "\n",
    "for tickers in dividend_clusters.values():\n",
    "    features_corr = get_strong_features_for_dividends(tickers)\n",
    "    clusters.append(Cluster(tickers, features_corr))\n",
    "    \n",
    "    \n",
    "clusters"
   ],
   "id": "55a3cecc939f2629",
   "outputs": [
    {
     "data": {
      "text/plain": [
       "[Cluster(tickers=['VAMO3.SA', 'VIVT3.SA', 'VULC3.SA', 'YDUQ3.SA', 'ZAMP3.SA'], dividend_features_corr=Goodwill                                         -0.779052\n",
       " Cash And Cash Equivalents                         0.844873\n",
       " Cash Equivalents                                  0.842838\n",
       " End Cash Position                                 0.844873\n",
       " Gains Losses Not Affecting Retained Earnings      0.780313\n",
       " Other Equity Adjustments                          0.780313\n",
       " Non Current Deferred Assets                      -0.780946\n",
       " Restricted Cash                                  -0.813400\n",
       " Cash Flow From Continuing Investing Activities    0.729320\n",
       " Net Other Investing Changes                       0.771628\n",
       " Operating Gains Losses                           -0.709049\n",
       " Pension And Employee Benefit Expense              0.841420\n",
       " Net Foreign Currency Exchange Gain Loss          -0.767022\n",
       " Restructuring And Mergern Acquisition             0.773324\n",
       " Retained Earnings                                 0.845011\n",
       " Investment Properties                            -0.877511\n",
       " Work In Process                                   0.800455\n",
       " Sale Of Intangibles                               0.717746\n",
       " dtype: float64),\n",
       " Cluster(tickers=['VBBR3.SA', 'VIVA3.SA', 'VLID3.SA', 'WEGE3.SA', 'WIZC3.SA'], dividend_features_corr=Capital Expenditure Reported                         0.869885\n",
       " Allowance For Doubtful Accounts Receivable           0.777807\n",
       " Gross Accounts Receivable                            0.710240\n",
       " Amortization                                        -0.763828\n",
       " Investments In Other Ventures Under Equity Method   -0.945675\n",
       " dtype: float64)]"
      ]
     },
     "execution_count": 24,
     "metadata": {},
     "output_type": "execute_result"
    }
   ],
   "execution_count": 24
  },
  {
   "metadata": {
    "ExecuteTime": {
     "end_time": "2024-07-01T01:23:22.791740Z",
     "start_time": "2024-07-01T01:23:22.786927Z"
    }
   },
   "cell_type": "code",
   "source": [
    "path = Path(\"data/dividend_features.pkl\")\n",
    "path.parent.mkdir(exist_ok=True)\n",
    "\n",
    "with open(path, mode=\"wb\") as file:\n",
    "    pickle.dump(clusters, file)"
   ],
   "id": "82c63e22c47c3933",
   "outputs": [],
   "execution_count": 25
  },
  {
   "metadata": {},
   "cell_type": "code",
   "outputs": [],
   "execution_count": null,
   "source": "",
   "id": "5060b2486a355353"
  }
 ],
 "metadata": {
  "kernelspec": {
   "display_name": "Python 3",
   "language": "python",
   "name": "python3"
  },
  "language_info": {
   "codemirror_mode": {
    "name": "ipython",
    "version": 2
   },
   "file_extension": ".py",
   "mimetype": "text/x-python",
   "name": "python",
   "nbconvert_exporter": "python",
   "pygments_lexer": "ipython2",
   "version": "2.7.6"
  }
 },
 "nbformat": 4,
 "nbformat_minor": 5
}
